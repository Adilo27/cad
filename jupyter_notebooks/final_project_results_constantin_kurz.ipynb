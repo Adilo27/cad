{
 "cells": [
  {
   "cell_type": "markdown",
   "id": "046c8ff5-96c4-41f9-aa9c-6bcd501ba669",
   "metadata": {},
   "source": [
    "# 1. Import stuff"
   ]
  },
  {
   "cell_type": "code",
   "execution_count": 1,
   "id": "c45742f6-d88e-4335-83a4-8247311db177",
   "metadata": {},
   "outputs": [],
   "source": [
    "import matplotlib.pyplot as plt\n",
    "\n",
    "%matplotlib inline\n",
    "import numpy as np\n",
    "\n",
    "from typing import *\n",
    "from scipy.stats import multivariate_normal\n",
    "from qiskit import Aer, QuantumCircuit, execute\n",
    "from qiskit.extensions import Initialize  # pylint: disable=cyclic-import\n",
    "from qiskit.utils import QuantumInstance\n",
    "from qiskit.algorithms import IterativeAmplitudeEstimation, EstimationProblem, AmplitudeEstimation, AmplitudeEstimationResult\n",
    "from qiskit.circuit.library import LinearAmplitudeFunction\n",
    "from qiskit_finance.circuit.library import *\n",
    "from qiskit.visualization import plot_histogram\n",
    "from qiskit.circuit.library.boolean_logic import OR\n",
    "from qiskit.circuit.library.basis_change import QFT"
   ]
  },
  {
   "cell_type": "markdown",
   "id": "b4decea4-3ab2-459e-be5d-e9ffac80a9af",
   "metadata": {},
   "source": [
    "# 2. set the parameter"
   ]
  },
  {
   "cell_type": "code",
   "execution_count": 2,
   "id": "502ed435-24fd-40b5-9029-f149092702f6",
   "metadata": {},
   "outputs": [],
   "source": [
    "# number of qubits to represent the uncertainty\n",
    "num_qubits_A = 3\n",
    "num_qubits_R = num_qubits_A + 1\n",
    "\n",
    "# parameters for considered random distribution\n",
    "S = 1.89  # initial spot price\n",
    "vol = 0.4  # volatility of 40%\n",
    "r = 0.05  # annual interest rate of 4%\n",
    "T = 40 / 365  # 40 days to maturity\n",
    "\n",
    "# set the strike price (should be within the low and the high value of the uncertainty)\n",
    "strike_price = 2"
   ]
  },
  {
   "cell_type": "markdown",
   "id": "ee3977b1-6ad0-49a6-b93b-c4c605aaf64d",
   "metadata": {},
   "source": [
    "# 3. Construct the NormalDistribution of the stock price\n",
    "The paper is saying that the stockprice change every step after a log-normal-Distribution. But later it uses a Normal-Distribution"
   ]
  },
  {
   "cell_type": "code",
   "execution_count": 30,
   "id": "fd239047-4660-4a8d-b2d4-373844107f02",
   "metadata": {},
   "outputs": [],
   "source": [
    "def logNormalDistribution(num_qubits, mu, sigma, bounds: tuple, name):\n",
    "    qc = QuantumCircuit(num_qubits, name=name)\n",
    "    x = np.linspace(bounds[0], bounds[1], num=2**num_qubits)\n",
    "    probabilities = []\n",
    "    for x_i in x:\n",
    "        # map probabilities from normal to log-normal reference:\n",
    "        # https://stats.stackexchange.com/questions/214997/multivariate-log-normal-probabiltiy-density-function-pdf\n",
    "        if np.min(x_i) > 0:\n",
    "            det = 1 / np.prod(x_i)\n",
    "            probability = multivariate_normal.pdf(np.log(x_i), mu, sigma) * det\n",
    "        else:\n",
    "            probability = 0\n",
    "        probabilities += [probability]\n",
    "        normalized_probabilities = probabilities / np.sum(probabilities) \n",
    "        \n",
    "    initialize = Initialize(np.sqrt(normalized_probabilities))\n",
    "    circuit = initialize.gates_to_uncompute().inverse()\n",
    "    qc.compose(circuit, inplace=True)\n",
    "    return qc, x, probabilities"
   ]
  },
  {
   "cell_type": "code",
   "execution_count": 31,
   "id": "d4dbd75b-caf9-448c-8232-83b4d2adffc8",
   "metadata": {},
   "outputs": [],
   "source": [
    "def create_LogNormalDistribution(qubits, S, vol, r, T):\n",
    "    # resulting parameters for log-normal distribution\n",
    "    mu = (r - 0.5 * vol**2) * T + np.log(S)\n",
    "    sigma = vol * np.sqrt(T)\n",
    "    mean = np.exp(mu + sigma**2 / 2)\n",
    "    variance = (np.exp(sigma**2) - 1) * np.exp(2 * mu + sigma**2)\n",
    "    stddev = np.sqrt(variance)\n",
    "\n",
    "    # lowest and highest value considered for the spot price; in between, an equidistant discretization is considered.\n",
    "    low = np.maximum(0, mean - 3 * stddev)\n",
    "    high = mean + 3 * stddev\n",
    "    print(low)\n",
    "    print(high)\n",
    "    # construct A operator for QAE for the payoff function by\n",
    "    # composing the uncertainty model and the objective\n",
    "    model = logNormalDistribution(\n",
    "        qubits, mu=mu, sigma=sigma**2, bounds=(low, high), name=\"LogNormalDist\"\n",
    "    )\n",
    "    i = len(model[1])//2-1\n",
    "    K = model[1]\n",
    "    return model, K, low, high, stddev\n",
    "\n",
    "def draw_model(model, strike_price=None, number_of_qubits=0):\n",
    "    # plot probability distribution\n",
    "    x = model[1]\n",
    "    y = model[2]\n",
    "    plt.bar(x, y, width=0.2)\n",
    "    if strike_price != None:\n",
    "        plt.axvline(x=strike_price, color='red', linestyle='--')\n",
    "    if len(x) < 32:\n",
    "        plt.xticks(x, size=15, rotation=90)\n",
    "        plt.yticks(size=15)\n",
    "    plt.grid()\n",
    "    plt.xlabel(\"Spot Price at Maturity $S_T$ (\\$)\", size=15)\n",
    "    plt.ylabel(\"Probability ($\\%$)\", size=15)\n",
    "    plt.show()\n",
    "    #plt.savefig('latex/images/probability.png', facecolor='None')\n",
    "    \n",
    "def draw_simulate_model(model, strike_price=None):\n",
    "    # Select the StatevectorSimulator from the Aer provider\n",
    "    simulator = Aer.get_backend('statevector_simulator')\n",
    "    # Execute and get counts\n",
    "    result = execute(model[0], simulator).result()\n",
    "    return result\n",
    "    "
   ]
  },
  {
   "cell_type": "code",
   "execution_count": 32,
   "id": "f4b3aff2-ba14-4154-b318-8849e4859838",
   "metadata": {},
   "outputs": [
    {
     "name": "stdout",
     "output_type": "stream",
     "text": [
      "1.1421338406106463\n",
      "2.6586353380506806\n",
      "                                                        »\n",
      "q_0: ───────────────────────────────────────────────────»\n",
      "                              ┌────────────────────────┐»\n",
      "q_1: ─────────────────────────┤0                       ├»\n",
      "     ┌───────────────────────┐│  multiplex2_reverse_dg │»\n",
      "q_2: ┤ multiplex1_reverse_dg ├┤1                       ├»\n",
      "     └───────────────────────┘└────────────────────────┘»\n",
      "«     ┌────────────────────────┐\n",
      "«q_0: ┤0                       ├\n",
      "«     │                        │\n",
      "«q_1: ┤1 multiplex3_reverse_dg ├\n",
      "«     │                        │\n",
      "«q_2: ┤2                       ├\n",
      "«     └────────────────────────┘\n"
     ]
    },
    {
     "data": {
      "image/png": "[encoded data removed]",
      "text/plain": [
       "<Figure size 504x360 with 1 Axes>"
      ]
     },
     "execution_count": 32,
     "metadata": {},
     "output_type": "execute_result"
    },
    {
     "data": {
      "image/png": "[encoded data removed]",
      "text/plain": [
       "<Figure size 504x360 with 1 Axes>"
      ]
     },
     "metadata": {
      "needs_background": "light"
     },
     "output_type": "display_data"
    }
   ],
   "source": [
    "normal_dist_model, strike_price_new, low, high, sigma = create_LogNormalDistribution(num_qubits_A, S, vol, r, T)\n",
    "if strike_price == None:\n",
    "    strike_price = strike_price_new\n",
    "result_normal = draw_simulate_model(normal_dist_model, strike_price)\n",
    "plot_histogram(result_normal.get_counts())"
   ]
  },
  {
   "cell_type": "code",
   "execution_count": 33,
   "id": "824dbf81-8e52-43a6-bfbf-25bd1406a1e3",
   "metadata": {},
   "outputs": [
    {
     "data": {
      "image/png": "[encoded data removed]",
      "text/plain": [
       "<Figure size 432x288 with 1 Axes>"
      ]
     },
     "metadata": {
      "needs_background": "light"
     },
     "output_type": "display_data"
    }
   ],
   "source": [
    "draw_model(normal_dist_model, number_of_qubits=num_qubits_A)"
   ]
  },
  {
   "cell_type": "code",
   "execution_count": 34,
   "id": "ef1d7370-372b-484f-808b-1e8a009e7cdd",
   "metadata": {},
   "outputs": [
    {
     "data": {
      "image/png": "[encoded data removed]",
      "text/plain": [
       "<Figure size 432x288 with 1 Axes>"
      ]
     },
     "metadata": {
      "needs_background": "light"
     },
     "output_type": "display_data"
    }
   ],
   "source": [
    "def payoff_european_draw(model, K):\n",
    "    # plot exact payoff function (evaluated on the grid of the uncertainty model)\n",
    "    x = model[1]\n",
    "    y = np.maximum(0, x - K)\n",
    "    plt.plot(x, y, \"bo-\")\n",
    "    plt.axvline(x=K, color='red', linestyle='--')\n",
    "    plt.grid()\n",
    "    plt.title(\"Payoff Function\", size=15)\n",
    "    plt.xlabel(\"Spot Price\", size=15)\n",
    "    plt.ylabel(\"Payoff\", size=15)\n",
    "    if len(x) < 32:\n",
    "        plt.xticks(x, size=15, rotation=90)\n",
    "        plt.yticks(size=15)\n",
    "    #if save_images:\n",
    "    #    plt.savefig(save_path + 'payoff_european.png',bbox_inches='tight')\n",
    "    else:\n",
    "        plt.show()\n",
    "    #plt.show()\n",
    "payoff_european_draw(normal_dist_model, strike_price)"
   ]
  },
  {
   "cell_type": "markdown",
   "id": "0e7a8c86-24f3-4867-8171-66a9dc6cb02f",
   "metadata": {},
   "source": [
    "Slope between 1.1792 and 2.009 comes from plot not and does not represent results from quantum circuit!"
   ]
  },
  {
   "cell_type": "markdown",
   "id": "7beb922d-2cef-43ab-9704-97e94dc1f1a6",
   "metadata": {},
   "source": [
    "# 4. build R layer to add the payoff function to the circit\n",
    "The Payoff function is $ f(S_T) = \\max\\{0,S_T-K\\}$\n",
    "Now we have $A|0^n>$ now we need to build this:\n",
    "$$\n",
    "R|x>|0> = |x> \\left[\\sqrt{1-v\\left(x\\right)}|0>+\\sqrt{v\\left(x\\right)}|1>\\right]\n",
    "$$"
   ]
  },
  {
   "cell_type": "code",
   "execution_count": 38,
   "id": "91cd9504-0cd6-41d0-bb86-ae56344ff6af",
   "metadata": {},
   "outputs": [
    {
     "name": "stdout",
     "output_type": "stream",
     "text": [
      "fmax-fmin 0.6586353380506806\n",
      "high-low 1.5165014974400344\n",
      "high-low/fmax-fmin 2.302490330883738\n",
      "high-low/fmax-fmin/high_number_qubits 0.32892719012624827\n",
      "slope * (2**n - 1): 0.7853981633974484\n",
      "slope 0  0.0\n",
      "slope 1  0.11219973762820691\n",
      "offset 0  1.1780972450961724\n",
      "offset 1  -0.4442900367474667\n"
     ]
    },
    {
     "data": {
      "image/png": "[encoded data removed]",
      "text/plain": [
       "<Figure size 808.997x445.48 with 1 Axes>"
      ]
     },
     "execution_count": 38,
     "metadata": {},
     "output_type": "execute_result"
    },
    {
     "data": {
      "image/png": "[encoded data removed]",
      "text/plain": [
       "<Figure size 808.997x445.48 with 1 Axes>"
      ]
     },
     "metadata": {},
     "output_type": "display_data"
    }
   ],
   "source": [
    "def create_lin_circuit(offset, slope, num_qubits_dist, num_qubits_lini, name=\"lin-func\"):\n",
    "    linear_model = QuantumCircuit(num_qubits_dist+num_qubits_lini)\n",
    "    linear_model.ry(offset, num_qubits_dist)\n",
    "    for j, q_j in enumerate(range(num_qubits_dist)):\n",
    "        linear_model.cry(slope * pow(2, j), q_j, num_qubits_dist)\n",
    "    linear_model.name = name\n",
    "    return linear_model\n",
    "\n",
    "def value_to_binar(value, num_qubits):\n",
    "    bin_value = pow(2, num_qubits) - int(np.ceil(value))\n",
    "    bin_value = f\"{bin_value:b}\".rjust(num_qubits, \"0\")\n",
    "    bin_value = [1 if bin_value[i] == \"1\" else 0 for i in reversed(range(len(bin_value)))]\n",
    "    return bin_value\n",
    "\n",
    "\n",
    "def qubit_integer_comparator(num_qubits_dist, compare_value, bigger_then=True ,name=\"compare_{value:.2f}_{bit_value}\"):\n",
    "    qubits_dist = list(range(num_qubits_dist))\n",
    "    qubits_compare = list(range(num_qubits_dist, num_qubits_A*2))\n",
    "    \n",
    "    bin_compare_value = value_to_binar(compare_value, num_qubits_dist)\n",
    "    #print(bin_compare_value)\n",
    "    \n",
    "    num_qubits_all = num_qubits_dist*2\n",
    "    num_qubits_compare = len(qubits_compare)\n",
    "    \n",
    "    comparator = QuantumCircuit(num_qubits_all)\n",
    "    if compare_value <= 0:  # condition always satisfied for non-positive values\n",
    "        if bigger_then:  # otherwise the condition is never satisfied\n",
    "            comparator.x(qubits_compare[0])\n",
    "        # condition never satisfied for values larger than or equal to 2^n\n",
    "    elif compare_value < pow(2, num_qubits_dist):\n",
    "        if num_qubits_dist > 1:\n",
    "            for i in range(num_qubits_dist):\n",
    "                if i == 0:\n",
    "                    if bin_compare_value[i] == 1:\n",
    "                        comparator.cx(qubits_dist[i], qubits_compare[i+1])\n",
    "                elif i < num_qubits_dist - 1:\n",
    "                    if bin_compare_value[i] == 1:\n",
    "                        comparator.compose(OR(2), [qubits_dist[i], qubits_compare[i], qubits_compare[i + 1]], inplace=True)\n",
    "                    else:\n",
    "                        comparator.ccx(qubits_dist[i], qubits_compare[i], qubits_compare[i + 1])\n",
    "                else:\n",
    "                    if bin_compare_value[i] == 1:\n",
    "                        # OR needs the result argument as qubit not register, thus\n",
    "                        # access the index [0]\n",
    "                        comparator.compose(OR(2), [qubits_dist[i], qubits_compare[i], qubits_compare[0]], inplace=True)\n",
    "                    else:\n",
    "                        comparator.ccx(qubits_dist[i], qubits_compare[i], qubits_compare[0])\n",
    "\n",
    "            # flip result bit if geq flag is false\n",
    "            if not bigger_then:\n",
    "                comparator.x(qubits_compare[0])\n",
    "\n",
    "            # uncompute ancillas state\n",
    "            for i in reversed(range(num_qubits_dist - 1)):\n",
    "                if i == 0:\n",
    "                    if bin_compare_value[i] == 1:\n",
    "                        comparator.cx(qubits_dist[i], qubits_compare[i+1])\n",
    "                else:\n",
    "                    if bin_compare_value[i] == 1:\n",
    "                        comparator.compose(OR(2), [qubits_dist[i], qubits_compare[i], qubits_compare[i+1]], inplace=True)\n",
    "                    else:\n",
    "                        comparator.ccx(qubits_dist[i], qubits_compare[i], qubits_compare[i+1])\n",
    "        else:\n",
    "            # num_state_qubits == 1 and value == 1:\n",
    "            comparator.cx(qubits_dist[0], qubits_compare[0])\n",
    "            # flip result bit if geq flag is false\n",
    "            if not bigger_then:\n",
    "                comparator.x(qubits_compare[0])\n",
    "    else:\n",
    "        if not bigger_then:  # otherwise the condition is never satisfied\n",
    "            comparator.x(qubits_compare[0])\n",
    "    \n",
    "    \n",
    "    comparator.name = name.format(value=compare_value, bit_value=\"\".join(str(x) for x in bin_compare_value))\n",
    "    return comparator\n",
    "\n",
    "def payoff_european(normal_dist_model, num_qubits_A, low, high, strike_price):\n",
    "    # calculate the variables\n",
    "    high_number_qubit = 2**(num_qubits_A)-1\n",
    "    f_min = 0\n",
    "    f_max = normal_dist_model[1][-1] - strike_price\n",
    "    c = 0.25\n",
    "    print('fmax-fmin', f_max-f_min)\n",
    "    print('high-low', high-low)\n",
    "    print('high-low/fmax-fmin', (high - low) / (f_max - f_min) )\n",
    "    print('high-low/fmax-fmin/high_number_qubits', (high - low) / (f_max - f_min) / high_number_qubit )\n",
    "    # here the corresponding initial slopes, breakpoints and offsets are already set. *2 beacause of angle/2 in Ry\n",
    "    breakpoints = [(x-low) / (high-low) * (high_number_qubit) for x in [low, strike_price]]\n",
    "    slopes_temp = 2 * np.array([0, np.pi/2 * c * (f_max-f_min)/high_number_qubit/(f_max-f_min)])\n",
    "    offsets_temp = np.pi / 4 * (1 - c) * np.ones(len(breakpoints)) + np.pi/2 * c * (-f_min)/(high-low)\n",
    "    offsets_temp *= 2\n",
    "    print('slope * (2**n - 1):', slopes_temp[-1] * high_number_qubit)\n",
    "    slopes = np.zeros_like(slopes_temp)\n",
    "    for i, slope in enumerate(slopes_temp):\n",
    "        slopes[i] = slope - sum(slopes[:i])\n",
    "        print('slope %i '% i, slopes[i])\n",
    "    offsets = np.zeros_like(offsets_temp)\n",
    "    for i, (offset, slope, point) in enumerate(zip(offsets_temp, slopes_temp, breakpoints)):\n",
    "        offsets[i] = offset - slope * point - sum(offsets[:i])\n",
    "        print('offset %i '% i, offsets[i])\n",
    "        \n",
    "\n",
    "    \n",
    "    # qubits with the log-normla distribution\n",
    "    qubits_dist = list(range(num_qubits_A))\n",
    "    qubits_lini = [num_qubits_A]\n",
    "    qubits_compare = list(range(num_qubits_A+1, num_qubits_A*2+1))\n",
    "    num_qubits_all = num_qubits_A*2+1\n",
    "    num_qubits_lini = len(qubits_lini)\n",
    "    num_qubits_compare = len(qubits_compare)\n",
    "\n",
    "    \n",
    "    payoff_model = QuantumCircuit(num_qubits_all, name=\"Payoff\")\n",
    "    #print(payoff_model.num_qubits)\n",
    "    for i, point in enumerate(breakpoints):\n",
    "        linear_model = create_lin_circuit(offsets[i], slopes[i], num_qubits_A, num_qubits_lini, name=\"lin({:.2f})\".format(point))\n",
    "        if i == 0 and point == 0:\n",
    "            payoff_model.append(linear_model.to_gate(), qubits_dist[:] + qubits_lini)\n",
    "        else:\n",
    "            comparator = qubit_integer_comparator(num_qubits_A, point)\n",
    "            payoff_model.append(comparator.to_gate(), qubits_dist[:] + qubits_compare[:])\n",
    "            payoff_model.append(linear_model.to_gate().control(), [qubits_compare[0]] + qubits_dist[:] + qubits_lini)\n",
    "            payoff_model.append(comparator.to_gate().inverse(), qubits_dist[:] + qubits_compare[:])\n",
    "        \n",
    "    \n",
    "    \n",
    "    return payoff_model\n",
    "european_payoff_model = payoff_european(normal_dist_model, num_qubits_A, low, high, strike_price)\n",
    "num_total_qubits = european_payoff_model.num_qubits\n",
    "european_call = QuantumCircuit(num_total_qubits, name=\"A\")\n",
    "european_call.append(normal_dist_model[0].to_gate(), range(num_qubits_A))\n",
    "european_call.append(european_payoff_model.to_gate(), range(num_total_qubits))\n",
    "\n",
    "# draw the circuit\n",
    "european_payoff_model.draw(\"mpl\")"
   ]
  },
  {
   "cell_type": "code",
   "execution_count": 39,
   "id": "42efd451-909d-4622-ad95-e3a00c5c3966",
   "metadata": {},
   "outputs": [
    {
     "data": {
      "image/png": "[encoded data removed]",
      "text/plain": [
       "<Figure size 432x288 with 1 Axes>"
      ]
     },
     "metadata": {
      "needs_background": "light"
     },
     "output_type": "display_data"
    }
   ],
   "source": [
    "payoff_european_draw(normal_dist_model, strike_price)"
   ]
  },
  {
   "cell_type": "markdown",
   "id": "ff757ed4-4c22-41ed-9aba-df4aea118576",
   "metadata": {},
   "source": [
    "# 5. Estimate"
   ]
  },
  {
   "cell_type": "code",
   "execution_count": null,
   "id": "669dbcd1-771d-4df8-bcb2-32808575feaf",
   "metadata": {},
   "outputs": [],
   "source": [
    "def post_processing(scaled_value: float) -> float:\n",
    "        r\"\"\"Map the function value of the approximated :math:`\\hat{f}` to :math:`f`.\n",
    "\n",
    "        Args:\n",
    "            scaled_value: A function value from the Taylor expansion of :math:`\\hat{f}(x)`.\n",
    "\n",
    "        Returns:\n",
    "            The ``scaled_value`` mapped back to the domain of :math:`f`, by first inverting\n",
    "            the transformation used for the Taylor approximation and then mapping back from\n",
    "            :math:`[0, 1]` to the original domain.\n",
    "        \"\"\"\n",
    "        # revert the mapping applied in the Taylor approximation\n",
    "        value = scaled_value - 1 / 2 + np.pi / 4 * 0.25\n",
    "        value *= 2 / np.pi / 0.25\n",
    "\n",
    "        # map the value from [0, 1] back to the original domain\n",
    "        value *= high - strike_price - 0\n",
    "        value += 0\n",
    "\n",
    "        return value"
   ]
  },
  {
   "cell_type": "code",
   "execution_count": null,
   "id": "0115e9fb-5b82-476f-ad91-34b22efa515b",
   "metadata": {},
   "outputs": [],
   "source": [
    "def exact_european(model, strike_price):\n",
    "    # evaluate exact expected value (normalized to the [0, 1] interval)\n",
    "    x = model.values\n",
    "    y = np.maximum(0, x - strike_price)\n",
    "    exact_value = np.dot(model.probabilities, y)\n",
    "    exact_delta = sum(model.probabilities[x >= strike_price])\n",
    "    return exact_value, exact_delta\n",
    "\n",
    "def estimated_european(num_uncertainty_qubits, european_call, post_processing_func=post_processing, epsilon=0.01, alpha=0.05, shots=100):\n",
    "\n",
    "    qi = QuantumInstance(Aer.get_backend(\"aer_simulator\"), shots=shots)\n",
    "    problem = EstimationProblem(\n",
    "        state_preparation=european_call,\n",
    "        objective_qubits=[num_uncertainty_qubits],\n",
    "        post_processing=post_processing_func,\n",
    "    )\n",
    "    # construct amplitude estimation\n",
    "    ae = IterativeAmplitudeEstimation(epsilon, alpha=alpha, quantum_instance=qi)\n",
    "    result = ae.estimate(problem)\n",
    "\n",
    "    conf_int = np.array(result.confidence_interval_processed)\n",
    "    return result, conf_int"
   ]
  },
  {
   "cell_type": "code",
   "execution_count": null,
   "id": "84cc7c06-6cbd-4cd0-a739-f3af7d051a8e",
   "metadata": {},
   "outputs": [],
   "source": [
    "exact_value, exact_delta = exact_european(normal_dist_model, strike_price)"
   ]
  },
  {
   "cell_type": "code",
   "execution_count": null,
   "id": "89f00583-12f2-429b-96a2-1f6dea7fd2e1",
   "metadata": {},
   "outputs": [],
   "source": [
    "#my result\n",
    "result, conf_int = estimated_european(num_qubits_A, european_call)\n",
    "print(\"Exact value:        \\t%.4f\" % exact_value)\n",
    "print(\"Estimated value:    \\t%.4f\" % (result.estimation_processed))\n",
    "print(\"Confidence interval:\\t[%.4f, %.4f]\" % tuple(conf_int))\n",
    "#result, conf_int = estimated_european(num_qubits_A, european_call, post_processing2)\n",
    "#print(\"Estimated value:    \\t%.4f\" % (result.estimation_processed))\n",
    "#print(\"Confidence interval:\\t[%.4f, %.4f]\" % tuple(conf_int))\n",
    "result = draw_simulate_model(european_call)\n",
    "plot_histogram(result.get_counts())"
   ]
  },
  {
   "cell_type": "markdown",
   "id": "391e83d3-259f-44a0-b396-dbfb77fc0981",
   "metadata": {},
   "source": [
    "## Grover Operator\n",
    "\n",
    "Grover's search algorithm [1, 2] consists of repeated applications of the so-called\n",
    "Grover operator used to amplify the amplitudes of the desired output states.\n",
    "This operator, $\\mathcal{Q}$, consists of the phase oracle, $ \\mathcal{S}_f $,\n",
    "zero phase-shift or zero reflection,$ \\mathcal{S}_0 $, and an\n",
    "input state preparation $ \\mathcal{A} $:\n",
    "\n",
    "$$        \\mathcal{Q} = \\mathcal{A} \\mathcal{S}_0 \\mathcal{A}^\\dagger \\mathcal{S}_f $$\n",
    "\n",
    "In the standard Grover search we have $ \\mathcal{A} = H^{\\otimes n} $:\n",
    "\n",
    "$$\n",
    "        \\mathcal{Q} = H^{\\otimes n} \\mathcal{S}_0 H^{\\otimes n} \\mathcal{S}_f\n",
    "                    = D \\mathcal{S_f}\n",
    "$$\n",
    "The operation $ D = H^{\\otimes n} \\mathcal{S}_0 H^{\\otimes n} $ is also referred to as\n",
    "diffusion operator. In this formulation we can see that Grover's operator consists of two\n",
    "steps: first, the phase oracle multiplies the good states by -1 (with  $ \\mathcal{S}_f $)\n",
    "and then the whole state is reflected around the mean (with $ D $).\n",
    "\n",
    "This class allows setting a different state preparation, as in quantum amplitude\n",
    "amplification (a generalization of Grover's algorithm), $ \\mathcal{A} $ might not be\n",
    "a layer of Hardamard gates [3].\n",
    "\n",
    "The action of the phase oracle $ \\mathcal{S}_f $ is defined as\n",
    "\n",
    "$$\n",
    "        \\mathcal{S}_f: |x\\rangle \\mapsto (-1)^{f(x)}|x\\rangle\n",
    "$$\n",
    "\n",
    "where  $ f(x) = 1 $ if $ x $ is a good state and 0 otherwise. To highlight the fact\n",
    "that this oracle flips the phase of the good states and does not flip the state of a result\n",
    "qubit, we call $ \\mathcal{S}_f $ a phase oracle.\n",
    "\n",
    "Note that you can easily construct a phase oracle from a bitflip oracle by sandwiching the\n",
    "controlled X gate on the result qubit by a X and H gate.\n",
    "\n",
    "The zero reflection $ \\mathcal{S}_0 $ is usually defined as\n",
    "$$ \\mathcal{S}_0 = 2 |0\\rangle^{\\otimes n} \\langle 0|^{\\otimes n} - \\mathbb{I}_n $$\n",
    "where $ \\mathbb{I}_n $ is the identity on $ n $ qubits.\n",
    "By default, this class implements the negative version \n",
    "$ 2 |0\\rangle^{\\otimes n} \\langle 0|^{\\otimes n} - \\mathbb{I}_n$, since this can simply\n",
    "    be implemented with a multi-controlled Z sandwiched by X gates on the target qubit and the\n",
    "    introduced global phase does not matter for Grover's algorithm."
   ]
  },
  {
   "cell_type": "code",
   "execution_count": null,
   "id": "8c21b0af-392c-4105-b17f-988c18262441",
   "metadata": {},
   "outputs": [],
   "source": [
    "from qiskit.circuit import AncillaRegister, QuantumRegister, ClassicalRegister\n",
    "from qiskit.circuit.library.standard_gates import MCXGate"
   ]
  },
  {
   "cell_type": "code",
   "execution_count": null,
   "id": "90b315e8-e359-431c-84f6-af0ee3eb379c",
   "metadata": {},
   "outputs": [],
   "source": [
    "def grover_operator_oracle(num_qubits:int, num_ancillas:int, objective_qubits: List[int]) -> QuantumCircuit:\n",
    "    # build the reflection about the bad state (zero Reflection): a MCZ with open controls (thus X gates\n",
    "        # around the controls) and X gates around the target to change from a phaseflip on\n",
    "        # |1> to a phaseflip on |0>\n",
    "        num_state_qubits = num_qubits - num_ancillas\n",
    "\n",
    "        oracle = QuantumCircuit(num_state_qubits, name=\"S_f\")\n",
    "        oracle.h(objective_qubits[-1])\n",
    "        if len(objective_qubits) == 1:\n",
    "            oracle.x(objective_qubits[0])\n",
    "        else:\n",
    "            oracle.mcx(objective_qubits[:-1], objective_qubits[-1])\n",
    "        oracle.h(objective_qubits[-1])\n",
    "\n",
    "        return oracle"
   ]
  },
  {
   "cell_type": "code",
   "execution_count": null,
   "id": "2a9af49c-3587-4a1a-819e-220e7ac56237",
   "metadata": {},
   "outputs": [],
   "source": [
    "def zero_reflection(num_qubits: int, num_ancillas: int, reflection_qubits: List[int], mcx_mode: str) -> QuantumCircuit:\n",
    "#    qr_state = QuantumRegister(num_qubits - num_ancillas)\n",
    "    reflection = QuantumCircuit(num_qubits - num_ancillas, name=\"S_0\")\n",
    "\n",
    "    if num_ancillas > 0:\n",
    "        qr_ancilla = AncillaRegister(num_ancillas, \"ancilla\")\n",
    "        reflection.add_register(qr_ancilla)\n",
    "    else:\n",
    "        qr_ancilla = []\n",
    "\n",
    "    reflection.x(reflection_qubits)\n",
    "    if len(reflection_qubits) == 1:\n",
    "        reflection.z(0)  # MCX does not allow 0 control qubits, therefore this is separate\n",
    "    else:\n",
    "        reflection.h(reflection_qubits[-1])\n",
    "        reflection.mcx(reflection_qubits[:-1], reflection_qubits[-1], qr_ancilla[:], mode=mcx_mode)\n",
    "        reflection.h(reflection_qubits[-1])\n",
    "    reflection.x(reflection_qubits)\n",
    "\n",
    "    return reflection"
   ]
  },
  {
   "cell_type": "code",
   "execution_count": null,
   "id": "90c59b8a-fe05-4f3a-9f85-2c369b329221",
   "metadata": {},
   "outputs": [],
   "source": [
    "def grover_operator(num_qubits: int, num_ancillas: int, oracle: QuantumCircuit, zero_reflections: QuantumCircuit, state_preparation: QuantumCircuit,\n",
    "                    reflection_qubits:int, objective_qubits: List[int],\n",
    "                    insert_barriers: bool) -> QuantumCircuit :\n",
    "        num_state_qubits = num_qubits - num_ancillas\n",
    "        circuit = QuantumCircuit(num_state_qubits, name=\"Q\")\n",
    "        #not needed since 0\n",
    "        #if num_ancillas > 0:\n",
    "        #    circuit.add_register(AncillaRegister(num_ancillas, name=\"ancilla\"))\n",
    "\n",
    "        circuit.append(oracle.to_gate(), list(range(num_qubits)))\n",
    "        if insert_barriers:\n",
    "            circuit.barrier()\n",
    "        circuit.append(\n",
    "            state_preparation.inverse().to_gate(),\n",
    "            list(range(num_qubits))\n",
    "        )\n",
    "        if insert_barriers:\n",
    "            circuit.barrier()\n",
    "        circuit.append(\n",
    "            zero_reflections.to_gate(), list(range(num_qubits))\n",
    "        )\n",
    "        if insert_barriers:\n",
    "            circuit.barrier()\n",
    "        circuit.append(\n",
    "            state_preparation.to_gate(), list(range(num_qubits))\n",
    "        )\n",
    "\n",
    "        # minus sign\n",
    "        circuit.global_phase = np.pi\n",
    "\n",
    "        #circuit.add_register(*circuit.qregs)\n",
    "        \n",
    "        return circuit"
   ]
  },
  {
   "cell_type": "code",
   "execution_count": null,
   "id": "177e334b-38c2-4078-9e57-4fe879de507e",
   "metadata": {},
   "outputs": [],
   "source": [
    "num_qubits = 7\n",
    "num_ancilla = 0\n",
    "# qubits die für S_0 genutzt werden sollen\n",
    "reflection_qubits = list(range(num_qubits - num_ancilla))\n",
    "# qubit, das für S_f genutzt und dessen Amplitude gefunden werden soll.\n",
    "objective_qubits = [3]\n",
    "mcx_mode = \"noancilla\"\n",
    "\n",
    "\n",
    "state_preparation = european_call\n",
    "oracle = grover_operator_oracle(num_qubits ,num_ancilla, objective_qubits)\n",
    "zero_reflections = zero_reflection(num_qubits, num_ancilla, reflection_qubits, mcx_mode)\n",
    "custom_grover_operator = grover_operator(num_qubits, num_ancilla, oracle, zero_reflections,\n",
    "                                  state_preparation, reflection_qubits,objective_qubits, False)\n",
    "# set usage of barriers to False since otherwise code crashes when grover_operatos.to_gate() is executed\n",
    "print(custom_grover_operator.decompose())"
   ]
  },
  {
   "cell_type": "markdown",
   "id": "1c26f5a9-194f-497a-bd9b-e1c14147aba6",
   "metadata": {},
   "source": [
    "## Canonical AE"
   ]
  },
  {
   "cell_type": "markdown",
   "id": "ff4943fd-8e5e-4f64-bcd3-bd6b6e5c72a2",
   "metadata": {},
   "source": [
    "### Custom Canonical AE"
   ]
  },
  {
   "cell_type": "code",
   "execution_count": null,
   "id": "57718f08-2120-4ab6-9766-a5cd0c40c97a",
   "metadata": {},
   "outputs": [],
   "source": [
    "def phase_estimation(num_evaluation_qubits: int,\n",
    "        unitary: QuantumCircuit,\n",
    "        iqft: Optional[QuantumCircuit] = None,\n",
    "        name: str = \"QPE\"):\n",
    "    \"\"\"\n",
    "        Args:\n",
    "            num_evaluation_qubits: The number of evaluation qubits.\n",
    "            unitary: The unitary operation :math:`U` which will be repeated and controlled.\n",
    "            iqft: A inverse Quantum Fourier Transform, per default the inverse of\n",
    "                :class:`~qiskit.circuit.library.QFT` is used. Note that the QFT should not include\n",
    "                the usual swaps!\n",
    "            name: The name of the circuit.\n",
    "    \"\"\"\n",
    "    qr_eval = QuantumRegister(num_evaluation_qubits, \"eval\")\n",
    "    qr_state = QuantumRegister(unitary.num_qubits, \"q\")\n",
    "    circuit = QuantumCircuit(qr_eval, qr_state, name=name)\n",
    "    iqft = QFT(num_evaluation_qubits, inverse=True, do_swaps=False).reverse_bits()\n",
    "    circuit.h(qr_eval)  # hadamards on evaluation qubits\n",
    "\n",
    "    for j in range(num_evaluation_qubits):  # controlled powers\n",
    "        circuit.append(unitary.power(2**j).control(), [j] + qr_state[:])\n",
    "    circuit.append(iqft.to_gate(), qr_eval[:])  # final QFT\n",
    "    #print(circuit)\n",
    "    #return circuit.to_gate()\n",
    "    return circuit"
   ]
  },
  {
   "cell_type": "code",
   "execution_count": null,
   "id": "8e7dea34-c944-4a24-ac8d-7d06cea7863e",
   "metadata": {},
   "outputs": [],
   "source": [
    "#phase_estimation(m, problem.grover_operator)"
   ]
  },
  {
   "cell_type": "code",
   "execution_count": null,
   "id": "51f0aee3-85e5-4228-8f01-c22e98aee1b2",
   "metadata": {},
   "outputs": [],
   "source": [
    "def construct_circuit(\n",
    "        m: int,M: int, estimation_problem: EstimationProblem, measurement: bool = False\n",
    "    ) -> QuantumCircuit:\n",
    "        \"\"\"Construct the Amplitude Estimation quantum circuit.\n",
    "\n",
    "        Args:\n",
    "            estimation_problem: The estimation problem for which to construct the QAE circuit.\n",
    "            measurement: Boolean flag to indicate if measurements should be included in the circuit.\n",
    "            m: Number of Qubits for PE\n",
    "            M: Number of QUbits for State Preparation\n",
    "\n",
    "        Returns:\n",
    "            The QuantumCircuit object for the constructed circuit.\n",
    "        \"\"\"\n",
    "        from qiskit.circuit.library import PhaseEstimation\n",
    "        # do not provide qft\n",
    "        pec = phase_estimation(m, problem.grover_operator)\n",
    "\n",
    "        # combine the Phase Estimation circuit with the A operator\n",
    "        circuit = QuantumCircuit(M + m)\n",
    "        circuit.append(\n",
    "            estimation_problem.state_preparation.to_gate(),\n",
    "            list(range(m, circuit.num_qubits)),\n",
    "        )\n",
    "        circuit.append(pec, list(range(circuit.num_qubits)))\n",
    "\n",
    "        # add measurements if necessary\n",
    "        if measurement:\n",
    "            cr = ClassicalRegister(m)\n",
    "            circuit.add_register(cr)\n",
    "            circuit.measure(list(range(m)), list(range(m)))\n",
    "        print(circuit)\n",
    "        return circuit"
   ]
  },
  {
   "cell_type": "code",
   "execution_count": null,
   "id": "c1631d2d-bd2a-4a84-a19d-4f7cd17f3d19",
   "metadata": {},
   "outputs": [],
   "source": [
    "#construct_circuit(3, 7, problem, True)"
   ]
  },
  {
   "cell_type": "code",
   "execution_count": null,
   "id": "fe160e8d-fa99-42cf-bbb0-a53d0f10c5c5",
   "metadata": {},
   "outputs": [],
   "source": [
    "#https://qiskit.org/documentation/_modules/qiskit/algorithms/amplitude_estimators/ae.html#AmplitudeEstimation\n",
    "def evaluate_count_results(m,counts, qi):\n",
    "        # construct probabilities\n",
    "        measurements = OrderedDict()\n",
    "        samples = OrderedDict()\n",
    "        shots = qi._run_config.shots\n",
    "\n",
    "        for state, count in counts.items():\n",
    "            y = int(state.replace(\" \", \"\")[: m][::-1], 2)\n",
    "            probability = count / shots\n",
    "            measurements[y] = probability\n",
    "            a = np.round(np.power(np.sin(y * np.pi / 2**m), 2), decimals=7)\n",
    "            samples[a] = samples.get(a, 0.0) + probability\n",
    "\n",
    "        return samples, measurements"
   ]
  },
  {
   "cell_type": "code",
   "execution_count": null,
   "id": "e8483734-c17c-4e63-a6a8-15f59e40b107",
   "metadata": {},
   "outputs": [],
   "source": [
    "def evaluate_statevector_results(m, statevector):\n",
    "        # map measured results to estimates\n",
    "        M = 2**m\n",
    "        measurements = OrderedDict()  # type: OrderedDict\n",
    "        num_qubits = int(np.log2(len(statevector)))\n",
    "        for i, amplitude in enumerate(statevector):\n",
    "            b = bin(i)[2:].zfill(num_qubits)[::-1]\n",
    "            y = int(b[: m], 2)  # chop off all except the evaluation qubits\n",
    "            measurements[y] = measurements.get(y, 0) + np.abs(amplitude) ** 2\n",
    "\n",
    "        samples = OrderedDict()  # type: OrderedDict\n",
    "        for y, probability in measurements.items():\n",
    "            if y >= int(M / 2):\n",
    "                y = M - y\n",
    "            # due to the finite accuracy of the sine, we round the result to 7 decimals\n",
    "            a = np.round(np.power(np.sin(y * np.pi / 2**m), 2), decimals=7)\n",
    "            samples[a] = samples.get(a, 0) + probability\n",
    "\n",
    "        return samples, measurements"
   ]
  },
  {
   "cell_type": "code",
   "execution_count": null,
   "id": "86cba52f-83bb-4ca4-a0fd-0894a91ebbf9",
   "metadata": {},
   "outputs": [],
   "source": [
    " def evaluate_measurements(\n",
    "        m: int,\n",
    "        qi: QuantumInstance,\n",
    "        circuit_results,\n",
    "        threshold: float = 1e-6,\n",
    "    ) -> Tuple[Dict[int, float], Dict[float, float]]:\n",
    "        \"\"\"Evaluate the results from the circuit simulation.\n",
    "\n",
    "        Given the probabilities from statevector simulation of the QAE circuit, compute the\n",
    "        probabilities that the measurements y/gridpoints a are the best estimate.\n",
    "\n",
    "        Args:\n",
    "            circuit_results: The circuit result from the QAE circuit. Can be either a counts dict\n",
    "                or a statevector.\n",
    "            threshold: Measurements with probabilities below the threshold are discarded.\n",
    "\n",
    "        Returns:\n",
    "            Dictionaries containing the a gridpoints with respective probabilities and\n",
    "                y measurements with respective probabilities, in this order.\n",
    "        \"\"\"\n",
    "        # compute grid sample and measurement dicts\n",
    "        if isinstance(circuit_results, dict):\n",
    "            samples, measurements = evaluate_count_results(m, circuit_results, qi)\n",
    "        else:\n",
    "            samples, measurements = evaluate_statevector_results(m, circuit_results)\n",
    "\n",
    "        # cutoff probabilities below the threshold\n",
    "        samples = {a: p for a, p in samples.items() if p > threshold}\n",
    "        measurements = {y: p for y, p in measurements.items() if p > threshold}\n",
    "\n",
    "        return samples, measurements"
   ]
  },
  {
   "cell_type": "code",
   "execution_count": null,
   "id": "e2b12d2d-a191-4fda-9cfb-885a63e07dd3",
   "metadata": {},
   "outputs": [],
   "source": [
    "m = 7\n",
    "M = 2**m\n",
    "qi = QuantumInstance(Aer.get_backend(\"aer_simulator\"), shots=100)\n",
    "\n",
    "problem = EstimationProblem(\n",
    "    state_preparation=european_call,\n",
    "    grover_operator = custom_grover_operator,\n",
    "    objective_qubits=[3],\n",
    "    post_processing=post_processing,\n",
    ")"
   ]
  },
  {
   "cell_type": "code",
   "execution_count": null,
   "id": "62aa8f85-1cad-4e48-a750-fdb26b232b17",
   "metadata": {},
   "outputs": [],
   "source": [
    "def estimate(m,m_state_prep, estimation_problem: EstimationProblem, qi) -> \"AmplitudeEstimationResult\":\n",
    "        \"\"\"Run the amplitude estimation algorithm on provided estimation problem.\n",
    "\n",
    "        Args:\n",
    "            estimation_problem: The estimation problem.\n",
    "            m: Number of Qubits for PE.\n",
    "            m_state_prep: Number of Qubits for State Preparation.\n",
    "\n",
    "        Returns:\n",
    "            An amplitude estimation results object.\n",
    "\n",
    "        Raises:\n",
    "            ValueError: If `state_preparation` or `objective_qubits` are not set in the\n",
    "                `estimation_problem`.\n",
    "        \"\"\"\n",
    "        # check if A factory or state_preparation has been set\n",
    "        quantum_instance = qi\n",
    "        if estimation_problem.state_preparation is None:\n",
    "            raise ValueError(\n",
    "                \"The state_preparation property of the estimation problem must be set.\"\n",
    "            )\n",
    "\n",
    "        if estimation_problem.objective_qubits is None:\n",
    "            raise ValueError(\"The objective_qubits property of the estimation problem must be set.\")\n",
    "\n",
    "        result = AmplitudeEstimationResult()\n",
    "        result.num_evaluation_qubits = m\n",
    "        result.post_processing = estimation_problem.post_processing\n",
    "\n",
    "        # should not be called\n",
    "        if quantum_instance.is_statevector:\n",
    "            circuit = construct_circuit(m,m_state_prep, estimation_problem, measurement=False)\n",
    "            # run circuit on statevector simulator\n",
    "            statevector = quantum_instance.execute(circuit).get_statevector()\n",
    "            result.circuit_results = statevector\n",
    "\n",
    "            # store number of shots: convention is 1 shot for statevector,\n",
    "            # needed so that MLE works!\n",
    "            result.shots = 1\n",
    "        else:\n",
    "            # run circuit on QASM simulator\n",
    "            circuit = construct_circuit(m, m_state_prep,estimation_problem, measurement=True)\n",
    "            counts = quantum_instance.execute(circuit).get_counts()\n",
    "            result.circuit_results = counts\n",
    "\n",
    "            # store shots\n",
    "            result.shots = sum(counts.values())\n",
    "        samples, measurements = evaluate_measurements(m, quantum_instance,result.circuit_results)\n",
    "\n",
    "        result.samples = samples\n",
    "        result.samples_processed = {\n",
    "            problem.post_processing(a): p for a, p in samples.items()\n",
    "        }\n",
    "        result.measurements = measurements\n",
    "\n",
    "        # determine the most likely estimate\n",
    "        result.max_probability = 0\n",
    "        for amplitude, (mapped, prob) in zip(samples.keys(), result.samples_processed.items()):\n",
    "            if prob > result.max_probability:\n",
    "                result.max_probability = prob\n",
    "                result.estimation = amplitude\n",
    "                result.estimation_processed = mapped\n",
    "\n",
    "        # store the number of oracle queries\n",
    "        result.num_oracle_queries = result.shots * (M - 1)\n",
    "        \n",
    "        # only check estimation for custom AE\n",
    "        # run the MLE post processing\n",
    "        mle = 0\n",
    "        result.mle = mle\n",
    "        result.mle_processed = estimation_problem.post_processing(mle)\n",
    "\n",
    "        #result.confidence_interval = compute_confidence_interval(result)\n",
    "        #result.confidence_interval_processed = tuple(\n",
    "        #   estimation_problem.post_processing(value) for value in result.confidence_interval\n",
    "        #)\n",
    "\n",
    "        return result"
   ]
  },
  {
   "cell_type": "code",
   "execution_count": null,
   "id": "8756ec9d-b8ef-49aa-a25c-da3f771668e5",
   "metadata": {},
   "outputs": [],
   "source": [
    "custom_estimate = estimate(m,num_qubits, problem, qi)"
   ]
  },
  {
   "cell_type": "code",
   "execution_count": null,
   "id": "239ffb9f-3246-4da0-8564-5df1f1c66abe",
   "metadata": {},
   "outputs": [],
   "source": [
    "custom_estimate.estimation_processed"
   ]
  },
  {
   "cell_type": "markdown",
   "id": "f0b0c6fb-2cad-46ed-bdd0-ed8280e54caa",
   "metadata": {},
   "source": [
    "### Qiskit Canonical AE"
   ]
  },
  {
   "cell_type": "code",
   "execution_count": null,
   "id": "3e8b3599-7447-46c7-b77a-e4e6e3b8c634",
   "metadata": {},
   "outputs": [],
   "source": [
    "ae = AmplitudeEstimation(\n",
    "    num_eval_qubits=7,  # the number of evaluation qubits specifies circuit width and accuracy\n",
    "    quantum_instance=qi,\n",
    ")"
   ]
  },
  {
   "cell_type": "code",
   "execution_count": null,
   "id": "7110013b-4953-492a-80fd-2a71bd508098",
   "metadata": {},
   "outputs": [],
   "source": [
    "ae_result = ae.estimate(problem)"
   ]
  },
  {
   "cell_type": "code",
   "execution_count": null,
   "id": "7f6af29f-a5df-4565-8ef2-760d04b3ea4a",
   "metadata": {},
   "outputs": [],
   "source": [
    "print(ae_result.estimation_processed)\n",
    "print(\"Interpolated MLE estimator:\", ae_result.mle_processed)"
   ]
  },
  {
   "cell_type": "code",
   "execution_count": null,
   "id": "3b8bb065-ae8a-4ba4-9abc-a56ef4511636",
   "metadata": {},
   "outputs": [],
   "source": [
    "conf_int = np.array(ae_result.confidence_interval)\n",
    "print(\"Exact value:        \\t%.4f\" % exact_value)\n",
    "print(\"Estimated value:    \\t%.4f\" % (ae_result.estimation_processed))\n",
    "print(\"95 Percent Confidence interval:\\t[%.4f, %.4f]\" % tuple(conf_int))"
   ]
  },
  {
   "cell_type": "markdown",
   "id": "ccb38e15-4c9d-4e79-b0f2-6e58ff836d27",
   "metadata": {},
   "source": [
    "Something is wrong with confidence interval here. Mean(Estimated value) does not lie in interval.\n",
    "Check post_processing and how interval and estimation is calculated"
   ]
  },
  {
   "cell_type": "code",
   "execution_count": null,
   "id": "c826041d-be82-46fa-834b-ac69604b8b58",
   "metadata": {},
   "outputs": [],
   "source": [
    "import matplotlib.pyplot as plt\n",
    "\n",
    "# plot estimated values\n",
    "gridpoints = list(ae_result.samples_processed.keys())\n",
    "probabilities = list(ae_result.samples_processed.values())\n",
    "\n",
    "plt.bar(gridpoints, probabilities, width=0.5 / len(probabilities))\n",
    "plt.axvline(exact_value, color=\"r\", ls=\"--\")\n",
    "plt.axvline(ae_result.mle_processed, color=\"g\", ls=\"--\")\n",
    "plt.xticks(size=15)\n",
    "plt.yticks([0, 0.25, 0.5, 0.75, 1], size=15)\n",
    "plt.title(\"Estimated Values\", size=15)\n",
    "plt.ylabel(\"Probability\", size=15)\n",
    "plt.xlabel(r\"Amplitude $a$\", size=15)\n",
    "plt.ylim((0, 1))\n",
    "plt.grid()\n",
    "plt.show()"
   ]
  },
  {
   "cell_type": "code",
   "execution_count": null,
   "id": "78d1c145-ae8d-46b1-a68f-c3f73b37aca9",
   "metadata": {},
   "outputs": [],
   "source": [
    "ae_circuit = ae.construct_circuit(problem)\n",
    "ae_circuit.decompose().draw(\n",
    "    \"mpl\")  # decompose 1 level: exposes the Phase estimation circuit!"
   ]
  },
  {
   "cell_type": "markdown",
   "id": "e6f6227a-ad5f-4b4d-aac7-e2d177a4ef69",
   "metadata": {},
   "source": [
    "### Iterative AE"
   ]
  },
  {
   "cell_type": "code",
   "execution_count": null,
   "id": "f22ed422-7d1f-46eb-8d96-38b05f2d6eec",
   "metadata": {},
   "outputs": [],
   "source": [
    "qi = QuantumInstance(Aer.get_backend(\"aer_simulator\"), shots=100)\n",
    "\n",
    "\n",
    "# Without custom grover_operator code would crash thanks to .to_gate() calls \n",
    "problem = EstimationProblem(\n",
    "    state_preparation=european_call,\n",
    "    grover_operator = custom_grover_operator,\n",
    "    objective_qubits=[3],\n",
    "    post_processing=post_processing,\n",
    ")"
   ]
  },
  {
   "cell_type": "code",
   "execution_count": null,
   "id": "1736c793-168c-469c-a0f1-591e6ce7d69b",
   "metadata": {},
   "outputs": [],
   "source": [
    "# set target precision and confidence level\n",
    "epsilon = 0.01\n",
    "alpha = 0.05\n",
    "ae = IterativeAmplitudeEstimation(epsilon, alpha=alpha, quantum_instance=qi)"
   ]
  },
  {
   "cell_type": "code",
   "execution_count": null,
   "id": "e967d33a-e340-478c-be2b-7c120e2c7248",
   "metadata": {},
   "outputs": [],
   "source": [
    "result = ae.estimate(problem)"
   ]
  },
  {
   "cell_type": "code",
   "execution_count": null,
   "id": "8118b262-442a-4026-9874-b566261f71b3",
   "metadata": {},
   "outputs": [],
   "source": [
    "conf_int = np.array(result.confidence_interval_processed)\n",
    "print(\"Exact value:        \\t%.4f\" % exact_value)\n",
    "print(\"Estimated value:    \\t%.4f\" % (result.estimation_processed))\n",
    "print(\"95 Percent Confidence interval:\\t[%.4f, %.4f]\" % tuple(conf_int))"
   ]
  },
  {
   "cell_type": "code",
   "execution_count": null,
   "id": "fd78ab8d-b4c5-4b14-96db-40f3bd98d7f2",
   "metadata": {},
   "outputs": [],
   "source": [
    "result.samples"
   ]
  },
  {
   "cell_type": "code",
   "execution_count": null,
   "id": "5e2a4871-ffd6-40e3-9c1f-c35b7cc0550c",
   "metadata": {},
   "outputs": [],
   "source": [
    "#TODO check how to plot result\n",
    "import matplotlib.pyplot as plt\n",
    "\n",
    "# plot estimated values\n",
    "gridpoints = list(result.samples_processed.keys())\n",
    "probabilities = list(result.samples_processed.values())\n",
    "\n",
    "plt.bar(gridpoints, probabilities, width=0.5 / len(probabilities))\n",
    "plt.axvline(exact_value, color=\"r\", ls=\"--\")\n",
    "plt.xticks(size=15)\n",
    "plt.yticks([0, 0.25, 0.5, 0.75, 1], size=15)\n",
    "plt.title(\"Estimated Values\", size=15)\n",
    "plt.ylabel(\"Probability\", size=15)\n",
    "plt.xlabel(r\"Amplitude $a$\", size=15)\n",
    "plt.ylim((0, 1))\n",
    "plt.grid()\n",
    "plt.show()"
   ]
  },
  {
   "cell_type": "code",
   "execution_count": null,
   "id": "5282ce34-abe2-415f-a25e-773dacca624f",
   "metadata": {},
   "outputs": [],
   "source": []
  }
 ],
 "metadata": {
  "kernelspec": {
   "display_name": "Python 3.9.13 64-bit",
   "language": "python",
   "name": "python3"
  },
  "language_info": {
   "codemirror_mode": {
    "name": "ipython",
    "version": 3
   },
   "file_extension": ".py",
   "mimetype": "text/x-python",
   "name": "python",
   "nbconvert_exporter": "python",
   "pygments_lexer": "ipython3",
   "version": "3.9.13"
  },
  "vscode": {
   "interpreter": {
    "hash": "aee8b7b246df8f9039afb4144a1f6fd8d2ca17a180786b69acc140d282b71a49"
   }
  }
 },
 "nbformat": 4,
 "nbformat_minor": 5
}
