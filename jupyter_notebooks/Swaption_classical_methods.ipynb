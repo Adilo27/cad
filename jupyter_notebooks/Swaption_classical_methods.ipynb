{
 "cells": [
  {
   "cell_type": "code",
   "execution_count": 1,
   "id": "786dd919-9ea7-462a-af04-1b0ccfd745ea",
   "metadata": {},
   "outputs": [],
   "source": [
    "import numpy as np\n",
    "import matplotlib.pyplot as plt\n",
    "plt.rcParams['figure.figsize'] = [5, 3]\n",
    "plt.rcParams['font.size'] = 8\n",
    "#plt.rcParams['figure.dpi'] = 100\n",
    "from scipy.stats import norm, lognorm\n",
    "from scipy.interpolate import interp1d\n",
    "from scipy.optimize import newton"
   ]
  },
  {
   "cell_type": "code",
   "execution_count": 242,
   "id": "257c745d-198b-4cbd-9c33-91dd415e919a",
   "metadata": {},
   "outputs": [],
   "source": [
    "def interpolate_yield(terms, yields, T=20, time_step = 1/12):\n",
    "    t = np.linspace(0, T, int(T/time_step)+1)\n",
    "    interp = interp1d(terms, yields, bounds_error=False,\n",
    "                      fill_value=(yields[0],yields[-1]), kind='cubic')\n",
    "    y = interp(t) # Interpolated yields\n",
    "    z = np.exp(-t*y) # Interpolated Zero rates\n",
    "    return t,y,z"
   ]
  },
  {
   "cell_type": "code",
   "execution_count": 243,
   "id": "e310e2d0-0bce-44d2-8389-1dfd642cc43e",
   "metadata": {},
   "outputs": [],
   "source": [
    "def get_instantaneous_fwd_rate(terms, zero_curve, T):\n",
    "    interp = interp1d(terms, zero_curve, bounds_error=False,\n",
    "                      fill_value='extrapolate', kind='cubic')\n",
    "    value1 = interp(T-0.001)\n",
    "    value2 = interp(T+0.001)\n",
    "    return -(np.log(value2)-np.log(value1))/0.002"
   ]
  },
  {
   "cell_type": "code",
   "execution_count": 2,
   "id": "9d344972-617f-42a5-9fef-65808c1399ff",
   "metadata": {},
   "outputs": [],
   "source": [
    "def to_int(x):\n",
    "    '''Function used to transform either floats or arrays of floats to int'''\n",
    "    if type(x) == np.ndarray:\n",
    "        x_int = (x).astype(int)\n",
    "    elif type(x) == float:\n",
    "        x_int = int(x)\n",
    "    else:\n",
    "        x_int = int(x)\n",
    "    return x_int\n",
    "    \n",
    "def B(s,t):\n",
    "    return (1-np.exp(-a*(t-s)))/a\n",
    "\n",
    "def A_MC(s,t):\n",
    "    '''A function used for pricing with x\n",
    "    It does not include the factor P(0,t)/P(0,s) '''\n",
    "    A = np.exp(-vol**2/(4*a) * B(s,t)**2*(1-np.exp(-2*a*s))\n",
    "                -vol**2/(2*a**2)*B(s,t)*(1-np.exp(-a*s))**2)\n",
    "    return A\n",
    "\n",
    "def A(s,t):\n",
    "    '''A function used for pricing with r'''\n",
    "    A = zcb(t)/zcb(s)*np.exp(B(s,t)*fwd_rates(s)\n",
    "            -vol**2/(4*a**3)*(np.exp(-a*t)-np.exp(-a*s))**2*(np.exp(2*a*s)-1))\n",
    "    return A\n",
    "\n",
    "\n",
    "def P(s,t,r):\n",
    "    return A(s,t)*np.exp(-B(s,t)*r)\n",
    "\n",
    "def P_MC(s,t,x):\n",
    "    return zcb(t)/zcb(s)*A_MC(s,t)*np.exp(-B(s,t)*x)"
   ]
  },
  {
   "cell_type": "markdown",
   "id": "e84fa889-20e1-4523-9dbe-b7f7e2d89f47",
   "metadata": {},
   "source": [
    "# Pricing European Swaption\n",
    "\n",
    "Exercise 31.19 of Hull is reproduced with three different methods.\n",
    "\n",
    "Value 1 x 4, 2 x 3, 3 x 2, and 4 x 1 European swap\n",
    "options to receive fixed and pay floating. Assume that the 1-, 2-, 3-, 4-, and 5-year\n",
    "interest rates are 6%, 5.5%, 6%, 6.5%, and 7%, respectively. The payment frequency on\n",
    "the swap is semiannual and the fixed rate is 6% per annum with semiannual compounding. Use the Hull–White model with $a = 3%$ and $\\sigma = 1%$. (Calculate the volatility\n",
    "implied by Black’s model for each option)\n",
    "\n",
    "Solution: The option prices are 0.1302, 0.0814, 0.0580, and 0.0274. The implied Black volatilities are \n",
    "14.28%, 13.64%, 13.24%, and 12.81%"
   ]
  },
  {
   "cell_type": "code",
   "execution_count": 4,
   "id": "d0bc452c-2ade-447f-b93f-01574f18c6ed",
   "metadata": {},
   "outputs": [],
   "source": [
    "terms = np.array([1,2,3,4,5])\n",
    "yields = np.array([6,5.5,6,6.5,7])/100\n",
    "#dfs = np.exp(-yields*terms)\n",
    "\n",
    "a = 0.03\n",
    "vol = 0.01\n",
    "R = 0.06 #per annnum \n",
    "N = 100 #nominal\n",
    "#nt = 100 #Steps used per year for the interpolation and MC simulation\n",
    "#ti,y,z = interpolate_yield(terms,yields, T = 7,time_step=1/nt)\n",
    "#fwd_rates = get_instantaneous_fwd_rate(ti,z,ti)\n",
    "rs = interp1d(terms, yields, bounds_error=False,\n",
    "                      fill_value=(yields[0],yields[-1]), kind='cubic')\n",
    "def zcb(s): return np.exp(-s*rs(s))\n",
    "def fwd_rate(s):\n",
    "    value1 = zcb(s-0.001)\n",
    "    value2 = zcb(s+0.001)\n",
    "    return -(np.log(value2)-np.log(value1))/0.002"
   ]
  },
  {
   "cell_type": "markdown",
   "id": "a034c551-7e7e-4438-8584-180dedcf8d4a",
   "metadata": {
    "tags": []
   },
   "source": [
    "## The interest rate process\n",
    "Before we can value any derivative we need to understand the process that drives the interest rate. For this we assume the Hull-white short rate model. The short rate model is given by\n",
    "$ dr(t) = (\\theta(t) -a r(t))dt + \\sigma dW(t)$\n",
    "Skipping some steps (all explained in *Interst Rate Syllabus*) we arrive at the price of the a zero-coupon bond $P(s,t)$ which is fitted to the current market.\n",
    "$$\n",
    "\\begin{aligned}\n",
    "P(s, t) &=A(s, t) e^{-B(s, t) r(s)} \\\\\n",
    "A(s, t) &=\\frac{P^M(0, t)}{P^M(0, s)} \\exp \\left\\{B(s, t) f^M(0, s)-\\frac{\\sigma^2}{4 a} B^2(s, t)\\left(1-e^{-2 a s}\\right)\\right\\} \\\\\n",
    "B(s, t) &=\\frac{1}{a}\\left(1-e^{a(s-t)}\\right)\n",
    "\\end{aligned}\n",
    "$$\n",
    "Here $P^M(0, t)$ is the bond price of the current market and $f^M(0, s)$ is the forward rate given by $f(t, T) = \\frac{\\partial logP(t,T)}{\\partial T}$\n",
    "In some cases we will use these equations and to calculate the forward rate we can interpolate the zcb curve and use a discrete derivative as approximation.\n",
    "\n",
    "Another method is to consider a shifted short rate process $x(t) = r(t) - \\alpha(t)$. If $\\alpha(t)$ is chosen correctly it can make the short rate process $x(t)$ mean free (not dependent on $\\theta(t)$ and thus not dependent on the forward rate. The process is given by $dx(t) = -ax(t)dt + \\sigma dW(t)$. This makes simulation with monte carlo methods easier. The coupon bond is now calculated by\n",
    "$$\n",
    "P(s,t) =\\frac{P^M(0, t)}{P^M(0, s)} \\exp \\left\\{-\\frac{\\sigma^2}{4 a} B^2(s, t)\\left(1-e^{-2 as}\\right)-\\frac{\\sigma^2}{2a^2} B(s, t)\\left(1-e^{-a s}\\right)^2-B(s, t) x(s)\\right\\}\n",
    "$$\n",
    "and the process x(s) has the following normal distribution\n",
    "$$ x(s) \\sim N\\left(0, \\frac{\\sigma^2}{2a}(1-\\exp(-2as))\\right)$$\n",
    "\n",
    "In order to help us calculate expectation values we change from the risk neutral measure Q  to a T-forward measure. For a payoff $V(T)$ and money making account $M(t)$ it holds that\n",
    "$$\n",
    "V(t) = M(t) \\mathrm{E}^Q\\left(\\frac{V(T)}{M(T)}|\\mathcal{F}_t\\right)\n",
    "$$\n",
    "Changing the numérair to a zero-coupon bond maturing at time $T$ as the bank-account. Since $P(T,T)=1$ we get the T-forward measure:\n",
    "$$\n",
    "V(t) = P(t,T) \\mathrm{E}^T\\left(\\frac{V(T)}{P(T,T)}|\\mathcal{F}_t\\right) = P(t,T) \\mathrm{E}^T\\left(V(T)|\\mathcal{F}_t\\right)\n",
    "$$\n",
    "Under this change of measure (from Q risk neutral to T-forward ), the drift of the x(t)-process will also change. This equals to the volatiliy of $\\frac{P(t,T)}{M(t)}$.\n",
    "This is given by Girsanov theorem. The derivation here is adapted from *Damiano Brigo & Fabio Mercurio: Interest Rate Models –Theory and Practice -With Smile, Inflation and Credit*\n",
    "\n",
    "Consider the dynamics of a more general $x(t)$ under both meausres $Q^q$ (risk neutral) and $Q^T$ (T-forward);\n",
    "$$\n",
    "dx(t) = \\mu_t^q dt + \\sigma_t dW^q_t\\\\\n",
    "dx(t) = \\mu_t^T dt + \\sigma_t dW^T_t\n",
    "$$\n",
    "In this case we know $\\mu_t^q = -ax(t)$ and want to find what $\\mu_t^T$ is. \n",
    "The change of numeraire is done with the Radon-Nikodym derivative between $Q^q$ (risk neutral) and $Q^T$ (T-forward). Girsanov's theorem gives an expression for this derivative\n",
    "$$\n",
    "\\zeta_t = \\frac{dQ^T}{dQ^q}|_{\\mathcal{F}_t} = \\exp\\left(-\\frac{1}{2}\\int_0^t\\frac{1}{\\sigma^2}(\\mu_s^T - \\mu_s^q)^2ds + \\int_0^t\\frac{1}{\\sigma}(\\mu_s^T - \\mu_s^q)dW^q \\right)\n",
    "$$\n",
    "The process $\\zeta_t$ defines the measure $dQ^T$ given the measure $dQ^q$. Because of its form we see that $\\zeta_t$ is an exponential martingale. For $\\alpha_t = \\frac{1}{\\sigma}(\\mu_t^T - \\mu_t^q)$ we can write $d\\zeta_t = \\alpha_t \\zeta_t dW_t^q$ (this can be verified by using Itô's lemma). Since $\\frac{dQ^T}{dQ^q}$ is the Radon-Nikodym derivative and we know the numeraire associated to each measure we can write\n",
    "$$\n",
    " \\zeta_T = \\frac{dQ^T}{dQ^q}|_{\\mathcal{F}_T} = \\frac{M(0)P(T,T)}{P(0,T)M(T)}\n",
    "$$\n",
    "As from above we know that $\\zeta_t$ is a martingale under the process $dW^q$, therfore the process P/M is as well. This gives that $\\zeta_t = E^{Q^q}[\\zeta_T] = E^{Q^q}[\\frac{M(0)P(T,T)}{P(0,T)M(T)}] = \\frac{M(0)P(t,T)}{P(0,T)M(t)}$\n",
    "To find the differential form we use Itô's lemma:\n",
    "$$\n",
    "d\\zeta_t = \\frac{M(t)}{P(0,T)}d\\frac{P(t,T)}{M(t)} = ... dt + \\frac{M(t)}{P(0,T)}\\frac{\\partial \\frac{P(t,T)}{M(t)}}{\\partial x(t)} dx(t) = -\\sigma B(t,T)\\frac{M(0)P(t,T)}{P(0,T)M(t)} dW(t)\n",
    "$$\n",
    "Since we know that this process is a martingale it has no drift and there is no need to calculate it. \n",
    "Comparing the two expressions for $d\\zeta_t$ we find that\n",
    "$$\n",
    "\\alpha_t = -\\sigma B(t,T)\n",
    "$$\n",
    "Therefore we obtain that $\\mu_t^T = \\mu_t^Q - \\sigma^2B(t,T)$. We find that the drift change therfore equals $ -\\sigma^2B(t,T)$.\n",
    "\n",
    "The process for $x(t)$ under $Q^T$ is now given by\n",
    "$$\n",
    "dx(t) = -ax(t)dt -\\sigma^2 B(t,T)dt + \\sigma dW^T_t\n",
    "$$\n",
    "To solve for the integral form we use Itô's lemma on $f(t,x)=xe^{at}$\n",
    "$$\n",
    "df(t,x) = \\left(\\frac{\\partial f}{\\partial t} - ax\\frac{\\partial f}{\\partial x} + \\frac{\\sigma^2}{2}\\frac{\\partial^2 f}{\\partial x^2}\\right)dt + \\sigma \\frac{\\partial f}{\\partial x}dW^T_t \\\\\n",
    "df(t,x) = -\\sigma^2 B(t,T) e^{at}dt + \\sigma e^{at}dW_t^T \n",
    "$$\n",
    "Integrating both sides and rewriting it gives\n",
    "$$\n",
    "x(T)e^{aT} - x{t}e^{at} = -\\sigma^2\\int_t^T B(s,T)e^{as}ds + \\sigma \\int_t^T e^{as}dW_s^T \\\\\n",
    "x(T) = x(t)e^{-a(T-t)}  -\\sigma^2\\int_t^T B(s,T)e^{-a(T-s)}ds + \\sigma \\int_t^T e^{-a(T-s)}dW_s^T\n",
    "$$\n",
    "where $\\int_t^T B(s,T)e^{-a(T-s)}ds = \\frac{1}{2}B(t,T)^2$. This term is the additional drift when switching to the T-forward measure. We can use this process to simulate x(t) and take the expected value and discounting it afterwards instead of needing to have the discounting inside the expectectation value. (You can see this as having removed the correlation between x(t) and P(t,T). ) The distribution of $x(s)$ under this measure is then given by:\n",
    "$$ x(s) \\sim N\\left(- \\frac{\\sigma^2}{2}B(0,s)^2, \\frac{\\sigma^2}{2a}(1-\\exp(-2as))\\right)$$\n",
    "\n",
    "As an example I have simulated a few paths of the process x(t) under the T-forward measure and the accompaning ZCB price. "
   ]
  },
  {
   "cell_type": "code",
   "execution_count": 6,
   "id": "2c5ff9ea-aaae-407d-a013-3e4409f840d4",
   "metadata": {},
   "outputs": [
    {
     "data": {
      "text/plain": [
       "Text(0.5, 1.0, 'Discount factor')"
      ]
     },
     "execution_count": 6,
     "metadata": {},
     "output_type": "execute_result"
    },
    {
     "data": {
      "image/png": "[encoded data removed]",
      "text/plain": [
       "<Figure size 720x216 with 2 Axes>"
      ]
     },
     "metadata": {
      "needs_background": "light"
     },
     "output_type": "display_data"
    }
   ],
   "source": [
    "def Simulate_MC(s, nsim, Dt=1, nt=365):\n",
    "    dt = 1/nt\n",
    "    \n",
    "    #Define quantities for a small step dt \n",
    "    std_x_dt = np.sqrt(vol**2/(2*a)*(1-np.exp(-2*a*dt)))\n",
    "    B_dt = B(0,dt) \n",
    "    drift_x_dt =  - vol**2/2*B_dt**2 #For T-forward measure\n",
    "    xt = 0\n",
    "    \n",
    "    #only store the value of xt and df on at the times when they are needed\n",
    "    #This can be yearly, monthly or any other period dependent on Dt\n",
    "    num_periods = int(s/Dt)\n",
    "    steps_per_period = int(nt*Dt)\n",
    "    x = [np.zeros(nsim)]\n",
    "    df = [np.ones(nsim)]\n",
    "    d0 = 1\n",
    "    for i in range(num_periods):\n",
    "        for j in range(0, steps_per_period):\n",
    "            k = i*steps_per_period + j\n",
    "            d_m = P_MC(k*dt,(k+1)*dt,xt)\n",
    "            #d_m = z[k+1]/z[k]* A(ti[k],ti[k+1])*np.exp(-B_dt*xt)\n",
    "            d0 = d0*d_m\n",
    "            xt = xt*np.exp(-a*dt) + drift_x_dt - np.random.normal(size=nsim)*std_x_dt\n",
    "        x.append(xt)\n",
    "        df.append(d0)\n",
    "    x = np.array(x)\n",
    "    df = np.array(df)\n",
    "\n",
    "    return x,df\n",
    "\n",
    "nsim = 100\n",
    "Dt = 1/12 #Monthly\n",
    "t= 5 # years\n",
    "x, df= Simulate_MC(t, nsim,Dt=Dt, nt=100)\n",
    "fig, (ax1,ax2) = plt.subplots(1,2, figsize=(10,3))\n",
    "ax1.plot(np.arange(0,t+Dt,Dt),x)\n",
    "ax2.plot(np.arange(0,t+Dt,Dt),df)\n",
    "ax1.set_title(r'100 paths of the x(t) procces under $Q^T$')\n",
    "ax2.set_title('Discount factor')"
   ]
  },
  {
   "cell_type": "markdown",
   "id": "935f9b54-6da7-4e5c-aeda-2c0800fd12db",
   "metadata": {
    "tags": []
   },
   "source": [
    "### Pricing European Call on a ZCB\n",
    "Before we go to the pricing of a swaption we need to know how to price a call option on a zero coupon bond (ZCB).\n",
    "Consider the price at $t=t$ of an option maturing at $T_0$ on a bond lasting from $T_0$ till $T_j$. The analytical option on a ZCB under the Hull-white 1 factor model is given by:\n",
    "$$ZBO(t,T_0,T_j) = P(t,T_j)N(h) - K P(t,T_0) N(h-\\sigma_p)$$\n",
    "with \n",
    "$$\n",
    "h = \\frac{1}{\\sigma_p} \\ln \\left(\\frac{P\\left(t, T_j\\right)}{K P\\left(t, T_0\\right)}\\right)+\\frac{\\sigma_p}{2}\n",
    "$$\n",
    "$$\n",
    "\\sigma_p =\\sigma \\sqrt{\\frac{1- e^\\left(-2 \\alpha\\left(T_0-t\\right)\\right)}{2 \\alpha}} B\\left(T_0, T_j\\right),\n",
    "$$\n",
    "Derivation is in *Hull JC: Options Futures and Other Derivatives (Technical Note 31)*\n",
    "\n",
    "\n",
    "To price an European call on a ZCB with monte carlo simulations we can simply take the average of multiple paths of x(t) \n",
    "$$\n",
    "V(t) = P^M(t,T_0) \\frac{1}{N_{sim}}\\sum_i^{N_{sim}}[(A(T_0,T_j)e^{-B(T_0,T_j)x^i(T_0)} - K)^+]\n",
    "$$\n",
    "Note that the discounting $P^M(t,T_0) $ can be taken outside the average since we simulate x(t) under the T-forward measure."
   ]
  },
  {
   "cell_type": "code",
   "execution_count": 7,
   "id": "c0dce816-7d2d-4a21-9232-61d86fc1b9f6",
   "metadata": {},
   "outputs": [
    {
     "name": "stdout",
     "output_type": "stream",
     "text": [
      "1.3373539130916046\n",
      "1.3373575640333428\n",
      "1.3218330353954486\n"
     ]
    }
   ],
   "source": [
    "def ZBO_exact(s,t, K, L=1, Call=True):\n",
    "    P0t = zcb(t) #\n",
    "    P0s = zcb(s) \n",
    "\n",
    "    sigma_p = vol/a * (1-np.exp(-(t-s)*a))*np.sqrt((1-np.exp(-2*a*s))/(2*a))\n",
    "    h = 1/sigma_p *np.log((L*P0t)/(K*P0s)) + sigma_p/2\n",
    "    \n",
    "    if Call:\n",
    "        price = L*P0t*norm.cdf(h) - K *P0s* norm.cdf(h-sigma_p) \n",
    "    if not Call: #put\n",
    "        price = K *P0s* norm.cdf(-h+sigma_p) - L*P0t*norm.cdf(-h)\n",
    "    return price\n",
    "\n",
    "\n",
    "def PDF_x(s, N=1024, i =6):\n",
    "    std_x = np.sqrt(vol**2/(2*a)*(1-np.exp(-2*a*s)))\n",
    "    mu_x = (-vol**2/2*B(0,s)**2) #Adjustedment for numeraire change\n",
    "    x = np.linspace(mu_x-i*std_x,mu_x+i*std_x,N)\n",
    "    p = norm.pdf(x,mu_x,std_x)\n",
    "    p = p/np.sum(p)\n",
    "    return x, p \n",
    "\n",
    "s,t= 1,4\n",
    "K =0.81\n",
    "\n",
    "# With analytical pricing formula\n",
    "exact_price = ZBO_exact(1,4,0.81, L=1, Call=True)*100\n",
    "print(exact_price)\n",
    "\n",
    "#With discretizing the pdf of x(s)\n",
    "x,px = PDF_x(s)\n",
    "p = P_MC(s,t,x)\n",
    "PDF_price = np.sum(px*(np.maximum(p - K,0)))*zcb(s) *100\n",
    "print(PDF_price)\n",
    "\n",
    "# With Monte Carlo simulation of x(t) till t=s\n",
    "x, df= Simulate_MC(s, 10**5,Dt=Dt, nt=100)\n",
    "p = P_MC(s,t,x[int(s/Dt)])\n",
    "MC_price = np.mean((np.maximum(p - K,0)))*zcb(s)*100\n",
    "print(MC_price)"
   ]
  },
  {
   "cell_type": "markdown",
   "id": "927ed30f-e33c-4f8a-afa2-768cc61a092e",
   "metadata": {},
   "source": [
    "## Pricing European Swaption\n",
    "\n",
    "Exercise 31.19 of Hull is reproduced with three different methods.\n",
    "\n",
    "Value 1 x 4, 2 x 3, 3 x 2, and 4 x 1 European swap\n",
    "options to receive fixed and pay floating. Assume that the 1-, 2-, 3-, 4-, and 5-year\n",
    "interest rates are 6%, 5.5%, 6%, 6.5%, and 7%, respectively. The payment frequency on\n",
    "the swap is semiannual and the fixed rate is 6% per annum with semiannual compounding. Use the Hull–White model with $a = 3%$ and $\\sigma = 1%$. (Calculate the volatility\n",
    "implied by Black’s model for each option)\n",
    "\n",
    "Solution: The option prices are 0.1302, 0.0814, 0.0580, and 0.0274. The implied Black volatilities are \n",
    "14.28%, 13.64%, 13.24%, and 12.81%"
   ]
  },
  {
   "cell_type": "code",
   "execution_count": 248,
   "id": "3243635f-d409-48c2-9ca6-797b880223d4",
   "metadata": {},
   "outputs": [],
   "source": [
    "#Set the parameters for the option \n",
    "\n",
    "Dt = 1/2 #semi annual compounding\n",
    "T0 = 1 # start date\n",
    "TM = 5 # End date\n",
    "\n",
    "#The data at which rates are exchanged\n",
    "T_range = np.arange(T0+Dt,TM+Dt,Dt)\n",
    "\n",
    "# payoffs of the coupon bearing bond used as replication\n",
    "c = np.tile(N*Dt*R,len(T_range)) \n",
    "c[-1] = N*(1+Dt*R)"
   ]
  },
  {
   "cell_type": "markdown",
   "id": "9bb64817-0944-4a0a-9f7c-cff348223e1d",
   "metadata": {
    "tags": []
   },
   "source": [
    "### Analytical solution\n",
    "The analytical formula for an swaption is derived as follows\n",
    "Consider\n",
    "- A set of times where $t < T_0 < T_1 < .. < T_m$. Where $\\Delta t = T_{i+1}-T_{i}$ is assumed constant.\n",
    "\n",
    "- The notional amount is N\n",
    "\n",
    "- The fixed rate is R\n",
    "\n",
    "At each $T_j \\in {T_0,... T_m}$ one exchanges a fixed rate against the floating rate. The fixed leg pays $N\\cdot R \\cdot \\Delta t$ at each $T_j$ and recieves floating: $N\\cdot L(T_{i-1},T_i)\\cdot \\Delta t$. Following the derivation in the *Interest Rate Syllabus* we obtain the value of an Interest rate swap of\n",
    "$$V(t) = N\\left( P(t,T_0) - P(t,T_m) - R\\sum_{i=1}^m P(t,T_i)\\Delta t\\right) $$\n",
    "We can rewrite this by defining $c_j = N R\\Delta t$ for $j\\in \\{0,1,..m-1\\} $ and $c_m = N(1+R\\Delta t)$. The swaption value can now be expressed by taking the maximum of the swap payoff and 0. \n",
    "Since $P(T_0, T_0) = 1$, the payoff of an swaption at $t=T_0$ is given by value of the receiver swaption expiring at time $T_0$ is given by\n",
    "$$RS(T_0) = \\left(\\sum_{j=1}^m c_j P(T_0,T_j) - N\\right)^+$$\n",
    "This is equal to an option on a Coupon-bearing bond with strike price N:\n",
    "$$RS(T_0) = \\left(CB(T_0,T_m) - N\\right)^+$$\n",
    "\n",
    "In the Hull-white model we can calculate the zero coupon bond price at t maturing at T as: $P(t,T,r_t) = A(t,T) \\exp(-B(t,T)r(t))$\n",
    "The trick is to convert the positive part of the sum to the sum of positive parts. This is done with the Jamshidian decomposition.\n",
    "Find an $r^*$ such that \n",
    "$$\\sum_{j=1}^m c_j K_j = N, \\quad \\text{where} \\quad K_j = P(T_0,T_j, r^*)$$\n",
    "This can be solved numerically and we use the Newton-Raphson algorithm for this.\n",
    "For the decomposition to hold we need: $\\frac{\\partial P(t,T,r_t)}{\\partial r_t} < 0$. One can show that for both cases $r_{T0} < r* $ and $r_{T0} > r* $ the decomposition holds.\n",
    "Thus we obtain:\n",
    "$$ RS(T_0) =  \\sum_{j=1}^m c_j (P(T_0,T_j,r_{T_0}) - K_j)^+ $$\n",
    "This is then the sum of m payoffs all being exercised at the same time $T_0$. Therefore we can discount them all to $t$ resulting in European call options on zero coupon bonds with strikes $K_j$\n",
    "\n",
    "*For an extensive derivation see: https://open.uct.ac.za/bitstream/handle/11427/29514/thesis_com_2018_masutha_ndinae_nico.pdf?isAllowed=y&sequence=1*"
   ]
  },
  {
   "cell_type": "code",
   "execution_count": 249,
   "id": "e0692da2-0cae-452c-ac03-eb15d26669ec",
   "metadata": {},
   "outputs": [
    {
     "name": "stdout",
     "output_type": "stream",
     "text": [
      "r* =  0.03965316291619671\n",
      "\n",
      "0.13244925365133062\n"
     ]
    }
   ],
   "source": [
    "#Find the r* using the newton-raphson algorithm\n",
    "def f(x):\n",
    "    #Define function for the solver to use.\n",
    "    summant = c*A(T0,T_range)*np.exp(-B(T0,T_range)*x)\n",
    "    return np.sum(summant)-N\n",
    "\n",
    "r_star = newton(f,0.1)\n",
    "print('r* = ', r_star)\n",
    "\n",
    "#The K_j are given by:\n",
    "K_range = A(T0,T_range)*np.exp(-B(T0,T_range)*r_star)\n",
    "\n",
    "#The summation of all ZCB options\n",
    "swaption_exact = 0\n",
    "for j, Tj in enumerate(T_range):\n",
    "    Kj = K_range[j]\n",
    "    swaption_exact +=c[j]*ZBO_exact(T0,Tj,Kj)\n",
    "    #print(Call_ZCB_exact(T0,Tj,Kj))\n",
    "print()\n",
    "print(swaption_exact)"
   ]
  },
  {
   "cell_type": "markdown",
   "id": "f4a20214-dbc8-4945-ba08-7ff0eed6995b",
   "metadata": {},
   "source": [
    "### Solving with Monte Carlo simulation\n",
    "To estimate the swaption price with Monte Carlo. Simulate $N_{sim}$ paths of the interst rate till time $T_0$.\n",
    "This can be done by simulating the process x(t) and adjusting the A and B functions for the Coupon bond pricing. \n",
    "Then the payoff can be calculated by summing all payoff and then taking the average of all payoffs and discoutning.\n",
    "$$RS(t) =\\frac{1}{N_{sim}} Df(T_0) \\sum_{i=1}^{N_{sim}} \\left(\\sum_{j=1}^m c_j A(T_0,T_j)\\exp{\\left((-B(T_0,T_j)x^i(T_0)\\right)} - N\\right)^+$$"
   ]
  },
  {
   "cell_type": "code",
   "execution_count": 256,
   "id": "b3d51975-58b2-4217-9569-496dccbb1404",
   "metadata": {},
   "outputs": [
    {
     "name": "stdout",
     "output_type": "stream",
     "text": [
      "0.1303322545129731\n"
     ]
    }
   ],
   "source": [
    "##### Monte Carlo\n",
    "nsim = 10**5\n",
    "x, df= Simulate_MC(T0, nsim, Dt=Dt, nt=nt)\n",
    "\n",
    "payoff = 0\n",
    "for j,Tj in enumerate(T_range):\n",
    "    payoff +=  c[j]*P_MC(T0,Tj,x[int(T0/Dt)])\n",
    "payoff -= N \n",
    "swaption_MC = np.mean(np.maximum(payoff,0))*z[int(T0*nt)] \n",
    "print(swaption_MC)"
   ]
  },
  {
   "cell_type": "markdown",
   "id": "650341ed-9a4c-489d-9298-af0d9a84efcd",
   "metadata": {},
   "source": [
    "### Solving with calculating the PDF for x(s)\n",
    "Instead of simulating paths of the interest rate we can also calculate that PDF of the interest rate at $T_0$ directly and use this to calculate the swap option price.\n",
    "First the PDF of the interest rate is calculated. This is given by\n",
    "$$ x(s) \\sim N\\left(-\\frac{\\sigma^2}{2}B(0,s)^2, \\frac{\\sigma^2}{2a}(1-\\exp(-2as))\\right)$$\n",
    "Once the PDF is sufficiently well approximated (number of discrete points and range) the option price can be accurately calculated by either using the Jamshidian decomposition and calculating the option price of multiple ZCBs. Or by using the same method as MC and caculating the total payoff before taking the average.\n",
    "$$RS(t) = Df(T_0) \\sum_{x=low}^{high} p_x \\left(\\sum_{j=1}^m c_j A(T_0,T_j)\\exp{\\left((-B(T_0,T_j)x(T_0)\\right)} - N\\right)^+$$\n"
   ]
  },
  {
   "cell_type": "code",
   "execution_count": 11,
   "id": "a093d116-1c47-43b6-aa4b-969da99ec6cd",
   "metadata": {},
   "outputs": [
    {
     "name": "stdout",
     "output_type": "stream",
     "text": [
      "0.1324492536951547\n"
     ]
    }
   ],
   "source": [
    "##### PDF with once PDF\n",
    "swaption_PDF_x = 0\n",
    "\n",
    "x, p_x = PDF_x(T0, N=2**14, i =10)\n",
    "for j,Tj in enumerate(T_range):\n",
    "    p = P_MC(T0,Tj,x)\n",
    "    Kj = K_range[j]\n",
    "    price = np.sum(p_x*(np.maximum(p - Kj,0)))*z[to_int(T0*nt)]\n",
    "    swaption_PDF_x += c[j]*price\n",
    "    #print(price)\n",
    "#print()\n",
    "print(swaption_PDF_x)"
   ]
  },
  {
   "cell_type": "code",
   "execution_count": 12,
   "id": "237d44c2-605d-4a76-bdcd-2b05dae36f13",
   "metadata": {},
   "outputs": [
    {
     "name": "stdout",
     "output_type": "stream",
     "text": [
      "0.1324492429529488\n"
     ]
    }
   ],
   "source": [
    "##### PDF without r_star\n",
    "payoff = 0\n",
    "\n",
    "x,px = PDF_x(T0, N=10000)\n",
    "for j,Tj in enumerate(T_range):\n",
    "    p = P_MC(T0,Tj,x)        \n",
    "    payoff += c[j]*p\n",
    "payoff += -N   \n",
    "swaption_PDF_x = np.sum(px*(np.maximum(payoff,0)))*z[to_int(T0*nt)]\n",
    "print(swaption_PDF_x)"
   ]
  },
  {
   "cell_type": "markdown",
   "id": "7cce8889-8461-409d-8fd4-d3f553e7f291",
   "metadata": {},
   "source": [
    "### Solving with the PDF for $P(T_0,T_j)$\n",
    "Since we know the distribution of $P(T_0,T_j)$ it can also be directly used in the calculation instead of using the pdf of $x(t)$. The drawback of this method is that for each exchange period $T_j$ a different PDF needs to be calculated.\n",
    "Since $P(T_0,T_j) = A(T_0,T_j)e^(-B(T_0,T_j)x(T_0))$ the distribution of $P(T_0,T_j)$ is Log normal (x is normal).\n",
    "Let $\\mu_x =  -\\frac{\\sigma^2}{2}B(0,s)^2$  and $\\sigma_x =  \\sqrt{\\frac{\\sigma^2}{2a}(1-\\exp(-2as))}$ then the distribution of $P(T_0,T_j)$ is given by\n",
    "$$ P(T_0,T_j) \\sim Lognormal \\left( \\log(A(T_0,T_j))- \\mu_x B(T_0,T_j)  ,\\   (\\sigma_x B(T_0,T_j))^2 \\right)$$\n",
    "Once the PDF is sufficiently well approximated (number of discrete points and range) the option price can be accurately calculated by either using the Jamshidian decomposition and calculating the option price of multiple ZCBs. Or by using the same method as MC and caculating the total payoff before taking the average.\n",
    "$$RS(t) = Df(T_0) \\sum_{x=low}^{high} p_x \\left(\\sum_{j=1}^m c_j A(T_0,T_j)\\exp{\\left((-B(T_0,T_j)x(T_0)\\right)} - N\\right)^+$$\n"
   ]
  },
  {
   "cell_type": "code",
   "execution_count": 260,
   "id": "d27c8c3c-e246-493a-a4c6-24151c349cb6",
   "metadata": {},
   "outputs": [],
   "source": [
    "def PDF_P(s,t,N=1024,i=6):\n",
    "    std_x = np.sqrt(vol**2/(2*a)*(1-np.exp(-2*a*s)))\n",
    "    mu_x = (-vol**2/2*B(0,s)**2) #Adjustedment for numeraire change\n",
    "    \n",
    "    std_y = std_x*B(s,t)\n",
    "    mu_y =  np.log(z[int(nt*t)]/z[int(nt*s)]*A_MC(s,t)) - mu_x*B(s,t) \n",
    "\n",
    "    mean = np.exp(mu_y+std_y**2/2)\n",
    "    sigma = np.sqrt((np.exp(std_y**2)-1)*np.exp(2*mu_y+std_y**2))\n",
    "    p = np.linspace(mean-i*sigma,mean+i*sigma,N)\n",
    "    y = lognorm.pdf(p,s=std_y, scale=np.exp(mu_y))\n",
    "    y_norm = y/np.sum(y)\n",
    "    return p, y_norm"
   ]
  },
  {
   "cell_type": "code",
   "execution_count": 263,
   "id": "682f89a4-dbb2-4906-a52f-4b9ac4faa64f",
   "metadata": {},
   "outputs": [
    {
     "name": "stdout",
     "output_type": "stream",
     "text": [
      "0.13245104948114483\n"
     ]
    }
   ],
   "source": [
    "swaption_PDF_P=0\n",
    "for j,Tj in enumerate(T_range):\n",
    "    p, p_prob = PDF_P(T0,Tj)\n",
    "    Kj = K_range[j]\n",
    "    price = np.sum(p_prob*(np.maximum(p - Kj,0)))*z[to_int(T0*nt)]\n",
    "    swaption_PDF_P += c[j]*price\n",
    "    #print(price)\n",
    "#print()\n",
    "print(swaption_PDF_P)"
   ]
  },
  {
   "cell_type": "markdown",
   "id": "5982b5a0-003c-4935-a080-371056a4d5dc",
   "metadata": {},
   "source": [
    "### Using a Taylor approximation\n",
    "Finally, with the idea of implementing the pricing of a Swaption on a Quantum computer we can also approximate the exponent used to calculate the bond price $P(T_0,T_j)$. For this we then only need the pdf of $x(T_0)$ and some multiplication operations instead of exponentation. The taylor approximation is\n",
    "$$Ae^{Bx} =  A(1 + Bx + \\frac{(Bx)^2}{2} + \\frac{(Bx)^3}{6} + ...)$$\n",
    "It should be investigated how many terms are to be included. But with first trails it shows that either including till $\\frac{(Bx)^2}{2}$ or $\\frac{(Bx)^3}{6}$ is sufficient. This depends on the number of exchanges, the maturity and the model parameters ($a$ and $\\sigma$)."
   ]
  },
  {
   "cell_type": "code",
   "execution_count": 15,
   "id": "1d6b12fe-7d38-449a-8f1b-d768517ea8d9",
   "metadata": {},
   "outputs": [
    {
     "name": "stdout",
     "output_type": "stream",
     "text": [
      "0.13203921460679882\n"
     ]
    }
   ],
   "source": [
    "# Use Taylor to approximate Ae^Bx = A(1+Bx + (Bx)^2/2 ... )\n",
    "swaption_Taylor=0\n",
    "x, px_norm = PDF_x(T0)\n",
    "\n",
    "for j,Tj in enumerate(T_range):\n",
    "    AA =z[int(nt*Tj)]/z[int(nt*T0)]*A_MC(T0,Tj)\n",
    "    BB = -B(T0,Tj)\n",
    "    p1 = AA*(1+BB*x+(BB*x)**2/2 )#+(BB*x)**3/6)\n",
    "    Kj = K_range[j]\n",
    "    price = np.sum(px_norm*(np.maximum(p1 - Kj,0)))*z[to_int(T0*nt)]\n",
    "    swaption_Taylor += c[j]*price\n",
    "    #print(price)\n",
    "#print()\n",
    "print(swaption_Taylor)"
   ]
  },
  {
   "cell_type": "code",
   "execution_count": 16,
   "id": "5ad95b2f-0f52-4a51-9fd9-2b7da5cb9e2f",
   "metadata": {},
   "outputs": [
    {
     "name": "stdout",
     "output_type": "stream",
     "text": [
      "Exact price:     0.13244925365133062\n",
      "Monte Carlo:     0.13022682958071516\n",
      "Discrete PDF x:  0.1324492429529488\n",
      "Discrete PDF P:  0.13245104948114483\n",
      "Taylor approx:   0.13203921460679882\n"
     ]
    }
   ],
   "source": [
    "# In summary we have\n",
    "print('Exact price:    ', swaption_exact)\n",
    "print('Monte Carlo:    ', swaption_MC)\n",
    "print('Discrete PDF x: ', swaption_PDF_x)\n",
    "print('Discrete PDF P: ', swaption_PDF_P)\n",
    "print('Taylor approx:  ', swaption_Taylor)"
   ]
  },
  {
   "cell_type": "code",
   "execution_count": null,
   "id": "32bc2efb-91a0-4672-9772-26485336910d",
   "metadata": {},
   "outputs": [],
   "source": []
  },
  {
   "cell_type": "markdown",
   "id": "4d9fc6cc-d52e-47b3-9c98-6e084f81484b",
   "metadata": {},
   "source": [
    "# Trinomial tree for Hull white\n",
    "For this approach we follow the book *\"Options, Futures and Other Derivatives. By John C. Hull\"*\n",
    "To rate $R$ for a period from $t$ to $t+\\Delta t$ can be modeled by\n",
    "$$ dR = (\\theta(t) -ar)dt +\\sigma dz $$\n",
    "Taking the limit of $\\Delta t$ to zero gives the model for the short rate. First we consider an zero mean process $R^*$ given by $dR^* = -aR^* dt + \\sigma dz$ which we then afterwards shift towards the correct mean $\\theta(t)$.\n",
    "\n",
    "In a trinomial tree a good choice for the stepsize is $\\Delta R=\\sigma \\sqrt{3\\Delta t}$ to minimize the error.\n",
    "\n",
    "We set up the tree such that $(m,j)$ denote the node with $t=m\\Delta t$ and $R^* = j\\Delta R$.\n",
    "The rate of mean reversion $a$ determines the type of branching. If you are far away from the mean the probability of moving down will increase. We set $j_{max}$ to the smallest integer greater than $0.184/(a\\Delta t) $. If $j=j_{max}$ we switch to a brenching more downwards and if $j=-j_max$ switch to upward brenching. The probablities are all given in the book and I will not repeat them here, they can also be decuted from the code. \n",
    "\n",
    "An example of a type of tree with the mean reverting is shown in the block below."
   ]
  },
  {
   "cell_type": "code",
   "execution_count": 412,
   "id": "46a2a501-57e4-4459-afc1-4298b52616d7",
   "metadata": {},
   "outputs": [],
   "source": [
    "# Define all the probablities, dependent on j\n",
    "\n",
    "# a is straight\n",
    "def pu_a(j):\n",
    "    return  1/6 + 1/2*(a**2*j**2*dt**2 - a*j*dt)\n",
    "def pm_a(j):\n",
    "    return 2/3 - a**2*j**2*dt**2\n",
    "def pd_a(j):\n",
    "    return 1/6 + 1/2*(a**2*j**2*dt**2 + a*j*dt)\n",
    "# b is up\n",
    "def pu_b(j):\n",
    "    return  1/6 + 1/2*(a**2*j**2*dt**2 + a*j*dt)\n",
    "def pm_b(j):\n",
    "    return -1/3 - a**2*j**2*dt**2 - 2*a*j*dt\n",
    "def pd_b(j):\n",
    "    return 7/6 + 1/2*(a**2*j**2*dt**2 + 3*a*j*dt)\n",
    "# c is down\n",
    "def pu_c(j):\n",
    "    return  7/6 + 1/2*(a**2*j**2*dt**2 - 3*a*j*dt)\n",
    "def pm_c(j):\n",
    "    return -1/3 - a**2*j**2*dt**2 + 2*a*j*dt\n",
    "def pd_c(j):\n",
    "    return 1/6 + 1/2*(a**2*j**2*dt**2 - a*j*dt)"
   ]
  },
  {
   "cell_type": "code",
   "execution_count": 413,
   "id": "c13dfc0d-e030-4e17-ab58-35b828258439",
   "metadata": {},
   "outputs": [],
   "source": [
    "def next_nodes(m,j, return_probs= False):\n",
    "    '''\n",
    "    Return a tuple of the next nodes from (m,j)\n",
    "    If return_probs is set to True then\n",
    "    also give the associated probablity\n",
    "    ''' \n",
    "    nexts= []\n",
    "    probs = []\n",
    "    \n",
    "    #Return empty list if node m,j is non existent\n",
    "    if (abs(j) > m) or (abs(j)>j_max):\n",
    "        return nexts\n",
    "    \n",
    "    nm = np.minimum(m+1,j_max)\n",
    "    #Straigth front\n",
    "    nexts.append((m+1,j))\n",
    "    if j == j_max:\n",
    "        probs.append(pu_c(j))\n",
    "    elif j == -j_max:\n",
    "        probs.append(pd_b(j))\n",
    "    else:\n",
    "        probs.append(pm_a(j))\n",
    "        \n",
    "    #One up \n",
    "    if (j+1 <= j_max):\n",
    "        nexts.append((m+1,j+1))\n",
    "        if j == -j_max:\n",
    "            probs.append(pm_b(j))\n",
    "        else:\n",
    "            probs.append(pu_a(j))\n",
    "        \n",
    "    #One down\n",
    "    if (j>-j_max):\n",
    "        nexts.append((m+1,j-1))\n",
    "        if j == j_max:\n",
    "            probs.append(pm_c(j))\n",
    "        else:\n",
    "            probs.append(pd_a(j))\n",
    "\n",
    "    #two up or down\n",
    "    if abs(m+1)>=j_max:\n",
    "        if j == -j_max:\n",
    "            nexts.append((m+1,j+2))\n",
    "            probs.append(pu_b(j))\n",
    "        if j == j_max:\n",
    "            nexts.append((m+1,j-2))\n",
    "            probs.append(pd_c(j))\n",
    "    if return_probs:\n",
    "        return nexts, probs\n",
    "    else:\n",
    "        return nexts"
   ]
  },
  {
   "cell_type": "code",
   "execution_count": 414,
   "id": "c3c9b8c1-8447-4bfd-9d45-cfc521da5fae",
   "metadata": {},
   "outputs": [],
   "source": [
    "def construct_tree(N,R0, j_max):\n",
    "    '''\n",
    "    Construct an array containing the tree values\n",
    "    The tree is centered in the middle\n",
    "    So for example Tree[0,j_max] is the start\n",
    "    ''' \n",
    "    width = np.minimum(j_max,N)\n",
    "    Tree = np.zeros((N+1,2*width+1))\n",
    "    Tree[0,width] = R0\n",
    "    for i in range(N):\n",
    "        nm = np.minimum(j_max,i)\n",
    "        for j in range(width-nm,width+nm+1):\n",
    "            Tree[i+1,j] = Tree[i,j]\n",
    "            \n",
    "            if j < 2*j_max:\n",
    "                Tree[i+1,j+1] = Tree[i,j] + dR\n",
    "            if (j > -j_max):\n",
    "                Tree[i+1,j-1] = Tree[i,j] - dR\n",
    "\n",
    "    return Tree"
   ]
  },
  {
   "cell_type": "code",
   "execution_count": 415,
   "id": "14d68bd2-2889-4a73-98ed-6455fcf8d923",
   "metadata": {},
   "outputs": [],
   "source": [
    "def Calculate_prob(Tree):\n",
    "    '''\n",
    "    Creates an array of equal shape to the Tree\n",
    "    where on each node the probablity of reaching\n",
    "    that node is stored.\n",
    "    '''\n",
    "    N = Tree.shape[0]-1\n",
    "    j_max = int((Tree.shape[1]-1)/2)\n",
    "    Prob = np.zeros_like(Tree)\n",
    "    Prob[0,j_max] = 1\n",
    "    for i in range(1,N+1):\n",
    "        nm = np.minimum(j_max,i)\n",
    "        for j in range(j_max-nm,j_max+nm+1):\n",
    "            prevs, probs = previous_nodes(i,j-j_max)\n",
    "            for k, prev in enumerate(prevs):\n",
    "                Prob[i,j] += Prob[i-1, prev[1]+j_max] * probs[k]\n",
    "    return Prob"
   ]
  },
  {
   "cell_type": "code",
   "execution_count": 416,
   "id": "aea95910-6deb-4602-97d4-8cdd4b99ba0e",
   "metadata": {},
   "outputs": [],
   "source": [
    "def Plot_tree(Tree, dt):\n",
    "    N = Tree.shape[0]-1\n",
    "    j_max = int((Tree.shape[1]-1)/2)\n",
    "    \n",
    "    for m in range(0,N):\n",
    "        nm = np.minimum(m,j_max)\n",
    "        for j in range(-nm,nm+1):\n",
    "            p1 = next_nodes(m,j)\n",
    "            p2 = (m,Tree[m,j_max+j])\n",
    "            \n",
    "            for i in range(len(p1)):\n",
    "                x, y = [p1[i][0]*dt, p2[0]*dt], [Tree[m+1,j_max + p1[i][1]], p2[1]]\n",
    "                plt.plot(x,y, color='black')\n",
    "            plt.scatter(dt*p2[0], p2[1], color='red')\n",
    "    plt.show()"
   ]
  },
  {
   "cell_type": "code",
   "execution_count": 417,
   "id": "affbaae1-4beb-44b7-8395-ae8b9b0a813e",
   "metadata": {},
   "outputs": [
    {
     "name": "stdout",
     "output_type": "stream",
     "text": [
      "j_max =  2\n"
     ]
    },
    {
     "data": {
      "image/png": "[encoded data removed]",
      "text/plain": [
       "<Figure size 360x216 with 1 Axes>"
      ]
     },
     "metadata": {
      "needs_background": "light"
     },
     "output_type": "display_data"
    }
   ],
   "source": [
    "terms = np.array([0.5,1.,1.5,2.,2.5,3.,3.5,4])\n",
    "yields = np.array([3.430,3.824,4.183,4.512,4.812,5.086, 5.086+0.25,5.336+0.225])/100\n",
    "\n",
    "vol = 0.01\n",
    "a = 0.1\n",
    "dt = 1\n",
    "dR = vol*np.sqrt(3*dt)\n",
    "\n",
    "rs = interp1d(terms, yields, bounds_error=False,\n",
    "                      fill_value=(yields[0],yields[-1]), kind='cubic')\n",
    "def zcb(s): return np.exp(-s*rs(s))\n",
    "def fwd_rate(s):\n",
    "    value1 = zcb(s-0.001)\n",
    "    value2 = zcb(s+0.001)\n",
    "    return -(np.log(value2)-np.log(value1))/0.002\n",
    "\n",
    "T = 3\n",
    "R0 = 0\n",
    "N = round(T/dt)\n",
    "j_max = int(np.ceil(0.184/(a*dt))) \n",
    "print('j_max = ', j_max)\n",
    "Tree = construct_tree(N,R0,j_max)\n",
    "Plot_tree(Tree, dt)"
   ]
  },
  {
   "cell_type": "markdown",
   "id": "2b82e663-848e-488e-a06f-fd03089a5ed6",
   "metadata": {},
   "source": [
    "# Calibration to initial term structure\n",
    "We have a tree for $R^*$, the next step is to calibrate this to the current term structure. \n",
    "For this we need to determine $\\alpha(t) = R(t) - R^*(t)$.\n",
    "Additionally define $Q_{i,j}$ as the present value of a security that pays off 1 if node $(i,j)$ is reached and zero otherwise. By forward induction we can calculate $\\alpha_i$ and $Q_{i,j}$\n",
    "The recursive formula's for these are \n",
    "\n",
    "$$\n",
    "Q_{m+1,j} = \\sum_k Q_{m,k} q(k,j) \\exp{\\left[-(\\alpha_m +k\\Delta R)\\Delta t\\right]}\n",
    "$$\n",
    "and \n",
    "$$\n",
    "\\alpha_m = \\frac{1}{\\Delta t}\\left(\\ln\\sum_{j=-n_m}^{n_m}Q_{m,j}e^{-j\\Delta R\\Delta t}-\\ln P_{m+1}\\right)\n",
    "$$\n",
    "Here q(k,j) is the probablity of moving from (m,k) to (m+1,j), so all the previous nodes leading to (m+1,j). And $n_m$ is the number of nodes on each side of the middle, so either it is $m$ or it is $j_max$. Furthermore, $P_{m+1}$ is the current zero coupon bond prices for $t=(m+1)\\Delta t$. "
   ]
  },
  {
   "cell_type": "code",
   "execution_count": 418,
   "id": "8a5fd6dc-433d-4019-9511-8ca0e4055458",
   "metadata": {},
   "outputs": [],
   "source": [
    "def previous_nodes(m,j):\n",
    "    prev = []\n",
    "    probs = []\n",
    "    steps = []\n",
    "    #Return empty list if node m,j is non existent\n",
    "    if (j > m) or (abs(j)>j_max):\n",
    "        return prev, probs\n",
    "    \n",
    "    #Straigth back\n",
    "    if abs(j)<m:\n",
    "        prev.append((m-1,j))\n",
    "        if j == j_max:\n",
    "            probs.append(pu_c(j))\n",
    "        elif j == -j_max:\n",
    "            probs.append(pd_b(j))\n",
    "        else:\n",
    "            probs.append(pm_a(j))\n",
    "        \n",
    "    #One down \n",
    "    if (j<j_max) & (j<(m-1)):\n",
    "        prev.append((m-1,j+1))\n",
    "        if j+1 == j_max:\n",
    "            probs.append(pm_c(j+1))\n",
    "        else:\n",
    "            probs.append(pd_a(j+1))\n",
    "\n",
    "    #One up\n",
    "    if (j>-j_max) & (j>-(m-1)):\n",
    "        prev.append((m-1,j-1))\n",
    "        if j-1 == -j_max:\n",
    "            probs.append(pm_b(j-1))\n",
    "        else:\n",
    "            probs.append(pu_a(j-1))\n",
    "    \n",
    "    #two up or down\n",
    "    if abs(m-1)>=j_max:\n",
    "        if j-2 == -j_max:\n",
    "            prev.append((m-1,j-2))\n",
    "            probs.append(pu_b(j-2))\n",
    "        if j+2 == j_max:\n",
    "            prev.append((m-1,j+2))\n",
    "            probs.append(pd_c(j+2))\n",
    "    return prev, probs # , steps"
   ]
  },
  {
   "cell_type": "code",
   "execution_count": 419,
   "id": "d23f70ba-1c82-40f7-8c2a-7c20b1c38531",
   "metadata": {},
   "outputs": [],
   "source": [
    "def Calibrate_tree(Tree):\n",
    "    N = Tree.shape[0]-1\n",
    "    j_max = int((Tree.shape[1]-1)/2)\n",
    "    \n",
    "    Q = np.zeros_like(Tree)\n",
    "    alpha = np.zeros(N+1)\n",
    "    alpha[0] = rs(dt)\n",
    "    Pm = zcb(np.arange(0,T+2*dt,dt))\n",
    "    Q[0,j_max] = 1\n",
    "\n",
    "    for m in range(1,N+1):\n",
    "        nm = np.minimum(m,j_max)\n",
    "        for j in range(-nm,nm+1):\n",
    "            prevs, prbs = previous_nodes(m,j)\n",
    "            for i, prev in enumerate(prevs):\n",
    "                _,k = prev\n",
    "                Q[m,j_max + j] += Q[m-1,k+j_max]*prbs[i]*np.exp(-(alpha[m-1] + (k)*dR)*dt)\n",
    "\n",
    "        nm = np.minimum(m,j_max)\n",
    "        _temp = sum([Q[m,j+j_max]*np.exp(-(j*dR)*dt) for j in range(-nm,nm+1)])\n",
    "        if m >0:\n",
    "            alpha[m] = (np.log(_temp)-np.log(Pm[m+1]))/dt\n",
    "    return alpha, Q"
   ]
  },
  {
   "cell_type": "code",
   "execution_count": 420,
   "id": "e0bb44ef-40b1-4e28-873e-c52e8ec69d95",
   "metadata": {},
   "outputs": [
    {
     "name": "stdout",
     "output_type": "stream",
     "text": [
      "[0.03824   0.05205   0.0625205 0.0702272]\n"
     ]
    },
    {
     "data": {
      "image/png": "[encoded data removed]",
      "text/plain": [
       "<Figure size 360x216 with 1 Axes>"
      ]
     },
     "metadata": {
      "needs_background": "light"
     },
     "output_type": "display_data"
    }
   ],
   "source": [
    "alpha, Q = Calibrate_tree(Tree)\n",
    "mask = (Q != 0) #Use Q to remove zeros on the edges\n",
    "newTree = Tree + np.tile(alpha,2*j_max+1).reshape(2*j_max+1,len(alpha)).T*mask\n",
    "print(alpha)\n",
    "Plot_tree(newTree,dt)"
   ]
  },
  {
   "cell_type": "markdown",
   "id": "1ca2df95-17c5-444f-9e8e-638b85b28467",
   "metadata": {},
   "source": [
    "# Calculating coupons with the tree\n",
    "Since we have constructed a tree for the $\\Delta t$ rate and not for the instantenous short rate, our analytical results for coupon bond pricing are not valid anymore and need a slight modification.\n",
    "$$\n",
    "P(t,T,R) = \\hat{A}(t,T) e^{-\\hat{B}(t,T)R}\n",
    "$$\n",
    "where\n",
    "$$\n",
    "\\begin{aligned}\n",
    "\\ln \\hat{A}(t, T)=\\ln \\frac{P(0, T)}{P(0, t)}-\\frac{B(t, T)}{B(t, t+\\Delta t)} \\ln \\frac{P(0, t+\\Delta t)}{P(0, t)} \\\\\n",
    "\\quad-\\frac{\\sigma^2}{4 a}\\left(1-e^{-2 a t}\\right) B(t, T)[B(t, T)-B(t, t+\\Delta t)]\n",
    "\\end{aligned}\n",
    "$$\n",
    "and\n",
    "$$\n",
    "\\hat{B}(t, T)=\\frac{B(t, T)}{B(t, t+\\Delta t)} \\Delta t\n",
    "$$\n",
    "This can then be used to calculate the zero coupon price at each node. Using these we can construct the payoffs of swaptions and other type of options similar as calculated earlier in this notebook.\n",
    "\n",
    "For example consider at $t=t$ an European call option maturing at $T$ on a bond lasting from $s$ till $s$. The price from the Tree will be given by\n",
    "$$\n",
    "V(t) = P^M(t,T)\\sum_{j = -n_m}^{n_m} Pr(m,j)\\left( \\hat{A}(T,s) e^{-\\hat{B}(T,s)R(m,j)} - K, 0\\right)^+ \n",
    "$$\n",
    "where $m=T/dt$ and $P^M(t,T)$ is the current zero coupon bond price for a bond till $T$. Furthermore $Pr(m,j)$ is the probability of reaching node $(m,j)$ from the start (independent of the path). "
   ]
  },
  {
   "cell_type": "code",
   "execution_count": 421,
   "id": "f3a49fef-64a2-4ac4-b433-ebef89250828",
   "metadata": {},
   "outputs": [],
   "source": [
    "def B_tree(s,t,dt):\n",
    "    return dt*B(s,t)/B(s,s+dt)\n",
    "\n",
    "def lnA_tree(s,t,dt):\n",
    "    return (np.log(zcb(t)/zcb(s)) \n",
    "            - B(s,t)/B(s,s+dt)*np.log(zcb(s+dt)/zcb(s))\n",
    "    -vol**2/(4*a)*(1-np.exp(-2*a*s))*B(s,t)*(B(s,t)-B(s,s+dt)))\n",
    "\n",
    "def P_tree(s,t,dt,R):\n",
    "    return np.exp(lnA_tree(s,t,dt))*np.exp(-B_tree(s,t,dt)*(R-vol**2/2*B_tree(0,s,dt)**2))"
   ]
  },
  {
   "cell_type": "code",
   "execution_count": 422,
   "id": "4d3b527e-46c1-4d7c-8ad4-0563fa612a29",
   "metadata": {},
   "outputs": [],
   "source": [
    "def ZBO_exact(s,t, K, L=1, Call=True):\n",
    "    P0t = zcb(t) #\n",
    "    P0s = zcb(s) \n",
    "\n",
    "    sigma_p = vol/a * (1-np.exp(-(t-s)*a))*np.sqrt((1-np.exp(-2*a*s))/(2*a))\n",
    "    h = 1/sigma_p *np.log((L*P0t)/(K*P0s)) + sigma_p/2\n",
    "    \n",
    "    if Call:\n",
    "        price = L*P0t*norm.cdf(h) - K *P0s* norm.cdf(h-sigma_p) \n",
    "    if not Call: #put\n",
    "        price = K *P0s* norm.cdf(-h+sigma_p) - L*P0t*norm.cdf(-h)\n",
    "    return price"
   ]
  },
  {
   "cell_type": "code",
   "execution_count": 423,
   "id": "299fa592-3353-402f-a221-291fa5dbd986",
   "metadata": {},
   "outputs": [
    {
     "name": "stdout",
     "output_type": "stream",
     "text": [
      "Exact pricing: 1.9096508284523528\n",
      "Price with Tree (dt = 1): 1.988512624473181\n"
     ]
    }
   ],
   "source": [
    "T,s = T,9\n",
    "K = 0.7\n",
    "print('Exact pricing:', ZBO_exact(T,s,K, Call=True)*100)\n",
    "Prob = Calculate_prob(Tree)\n",
    "print('Price with Tree (dt = 1):', np.sum(Prob[int(T/dt)] * np.maximum(P_tree(T,s,dt,newTree[int(T/dt)])-K,0))*zcb(T)*100)"
   ]
  },
  {
   "cell_type": "markdown",
   "id": "7f41f085-d68a-449c-9852-a0135716bbfe",
   "metadata": {},
   "source": [
    "# Bermudan style option\n",
    "With the help of the tree we can now also value Bermudan/American style options. The path dependency of these options can be implemented by backward calculation of the option price. \n",
    "\n",
    "Start by setting the option value to the discounted payoff of the option for each node at maturity $T$:\n",
    "$$V(T) = e^{-r(T-t)} \\text{Payoff}$$\n",
    "Where the payoff is dependent on the option. We introduce $Q(i,j)$ as the undiscounted payoff of exercising the option at node (i,j). \n",
    "Iterate backwards and set\n",
    "$$\n",
    " V_{i,j} = max\\left( Q(i,j),\\ e^{-r_{i,j}\\Delta t} \\sum_k q(j,k) V(i+1,k)\\right)\n",
    "$$\n",
    "where $q(j,k)$ is the probablity of moving from node (i,j) to (i+1,k). So the probablities of all possible nodes next to node (i,j). This is dependent on where you are in the tree and if you are close to $j_{max}$.\n",
    "\n",
    "Iterating till you get to $V(0,0)$ gives the current option price. \n",
    "\n",
    "For now we assume that the possible exercise dates all coincide with the nodes of the tree (this can achieved by a good choice of $\\Delta t$). Otherwise, in case of bermudan option one can have a fixed number of steps between exercises and simply propagate the option price backwards with the value $V(i,j) = e^{-r_{i,j}\\Delta t} \\sum_k q(j,k) V(i+1,k)$"
   ]
  },
  {
   "cell_type": "markdown",
   "id": "dc20f533-9d79-4d3d-905a-b438acaa1684",
   "metadata": {},
   "source": [
    "### Bermudan option on coupon paying bond \n",
    "We start by reporducing exercise 31.27 of *\"Options, Futures and Other Derivatives. By John C. Hull\"*.\n",
    "\n",
    "Calculate using the trinomial tree the price of a 2-year call option on a 5-year bond with a face value of 100. Suppose that the strike price (quoted) is 100, the coupon rate is 7% with coupons being paid twice a year. Assume that the zero curve is as in Table 31.2 (see the figure below for the rates from this table). Consider the following case:\n",
    "Normal model with $\\sigma =  0.01$ and $a = 0.05$. To price an European and American option.\n"
   ]
  },
  {
   "cell_type": "code",
   "execution_count": 424,
   "id": "97d334a6-0ce5-42f8-815a-7c42c2c9e12d",
   "metadata": {},
   "outputs": [
    {
     "data": {
      "text/plain": [
       "Text(0, 0.5, 'Rate')"
      ]
     },
     "execution_count": 424,
     "metadata": {},
     "output_type": "execute_result"
    },
    {
     "data": {
      "image/png": "[encoded data removed]",
      "text/plain": [
       "<Figure size 360x216 with 1 Axes>"
      ]
     },
     "metadata": {
      "needs_background": "light"
     },
     "output_type": "display_data"
    }
   ],
   "source": [
    "terms = np.array([0, 3,31,62,94,185,367,731,  1096, 1461, 1826, 2194, 2558, 2922, 3287, 3653])/365.\n",
    "\n",
    "yields = np.array([5.01772, 5.01772, 4.98284, 4.97234, 4.96157, 4.99058, 5.09389, 5.79733,\n",
    "                   6.30595, 6.73464, 6.94816, 7.08807, 7.27527, 7.30852, 7.39790, 7.49015])/100\n",
    "plt.plot(terms,yields)\n",
    "plt.xlabel('Maturity (years)')\n",
    "plt.ylabel('Rate')"
   ]
  },
  {
   "cell_type": "code",
   "execution_count": 425,
   "id": "bcb72117-4787-4f41-8f91-28ba47d5936c",
   "metadata": {},
   "outputs": [],
   "source": [
    "# Set up the parameters and initialize the interpolation function\n",
    "vol = 0.01\n",
    "a = 0.05\n",
    "rs = interp1d(terms, yields, bounds_error=False,\n",
    "                      fill_value=(yields[0],yields[-1]), kind='cubic')\n",
    "def zcb(s): return np.exp(-s*rs(s))\n",
    "def fwd_rate(s):\n",
    "    value1 = zcb(s-0.001)\n",
    "    value2 = zcb(s+0.001)\n",
    "    return -(np.log(value2)-np.log(value1))/0.002\n",
    "\n",
    "# Set the parameters for the option\n",
    "T0 = 2 #Maturity of option\n",
    "TM = 5 # bond maturity\n",
    "Dt =1/2 #Semi annual coupons\n",
    "R = 0.07 #Coupon rate\n",
    "K = 100 #Strike price\n",
    "L = 100 #Face value\n",
    "\n",
    "# Set the paramters for our tree\n",
    "dt = 1/5 # years per step (global)\n",
    "N = round(T0/dt) # Total number of steps\n",
    "j_max = int(np.ceil(0.184/(a*dt)))\n",
    "dR = vol*np.sqrt(3*dt)\n",
    "R0 = 0 \n",
    "\n",
    "# Construct the tree\n",
    "Tree = construct_tree(N,R0, j_max)\n",
    "alpha, Q = Calibrate_tree(Tree)\n",
    "mask = (Q != 0) #Use Q to remove zeros on the edges\n",
    "width = Tree.shape[1]\n",
    "newTree = Tree + np.tile(alpha,width).reshape(width,len(alpha)).T*mask\n",
    "Prob = Calculate_prob(Tree)"
   ]
  },
  {
   "cell_type": "code",
   "execution_count": 426,
   "id": "4329a11e-8097-480d-9b80-9086bd4db6bd",
   "metadata": {},
   "outputs": [],
   "source": [
    "def B(s,t):\n",
    "    return (1-np.exp(-a*(t-s)))/a\n",
    "\n",
    "def A(s,t):\n",
    "    '''A function used for pricing with r'''\n",
    "    A = zcb(t)/zcb(s)*np.exp(B(s,t)*fwd_rate(s)\n",
    "            -vol**2/(4*a**3)*(np.exp(-a*t)-np.exp(-a*s))**2*(np.exp(2*a*s)-1))\n",
    "    return A"
   ]
  },
  {
   "cell_type": "code",
   "execution_count": 427,
   "id": "5a9276e1-a615-4eae-9d6e-a2eac8322d31",
   "metadata": {},
   "outputs": [
    {
     "name": "stdout",
     "output_type": "stream",
     "text": [
      "Exact European price:  0.4666854546887895\n"
     ]
    }
   ],
   "source": [
    "# Exact pricing of European option on coupon bond using Jamshidian decomposition.\n",
    "T_range = np.arange(T0+Dt,TM+Dt,Dt)\n",
    "c = np.tile(L*Dt*R,len(T_range)) \n",
    "c[-1] = L*(1+Dt*R)\n",
    "\n",
    "def f(x):\n",
    "    summant = c*A(T0,T_range)*np.exp(-B(T0,T_range)*x)\n",
    "    return np.sum(summant)-K\n",
    "r_star = newton(f,0.1)\n",
    "\n",
    "K_range = c*A(T0,T_range)*np.exp(-B(T0,T_range)*r_star)\n",
    "\n",
    "prices = ZBO_exact(T0,T_range,K_range,c)\n",
    "exact_price = np.sum(prices)\n",
    "print('Exact European price: ', exact_price)"
   ]
  },
  {
   "cell_type": "code",
   "execution_count": 428,
   "id": "5fb96a31-ac55-4ae6-a4ae-f52d88feead9",
   "metadata": {},
   "outputs": [],
   "source": [
    "def payoff_coupon(rate, T0, return_p = False):\n",
    "    '''\n",
    "    Calculate the payoff on an call option on coupon bonds\n",
    "    This can be easily extended to puts or other payoffs\n",
    "    return_p is True only returns the price of the coupon\n",
    "    '''\n",
    "    T_range = np.arange(T0+Dt,TM+0.0001,Dt)\n",
    "    c = np.tile(L*Dt*R,len(T_range)) \n",
    "    c[-1] = L*(1+Dt*R)\n",
    "    p=0\n",
    "    for j, Tj in enumerate(T_range):\n",
    "        p +=c[j]*P_tree(T0,Tj,dt, rate)\n",
    "    if return_p:\n",
    "        return p\n",
    "    else:\n",
    "        return np.maximum(p-K,0)"
   ]
  },
  {
   "cell_type": "code",
   "execution_count": 429,
   "id": "1462be3f-1d90-4334-9fae-05f971510689",
   "metadata": {},
   "outputs": [
    {
     "name": "stdout",
     "output_type": "stream",
     "text": [
      "Tree European price:  0.4709664877471312\n",
      "Tree American price:  0.9885086986637256\n"
     ]
    }
   ],
   "source": [
    "# Pricing both European and American option with the Trinomial tree\n",
    "V = np.zeros_like(newTree)\n",
    "V[-1] = payoff_coupon(newTree[-1], T0)\n",
    "print('Tree European price: ', np.sum(V[-1]*Prob[-1])* zcb(T0))\n",
    "\n",
    "width_max = int((newTree.shape[1]-1)/2)\n",
    "for i in range(N-1,-1,-1):\n",
    "    nm = np.minimum(width_max,i)\n",
    "    for j in range(width_max-nm, width_max+nm+1):\n",
    "        #if i%L == 0:\n",
    "        payoff = payoff_coupon(newTree[i,j], i*dt)\n",
    "        \n",
    "        next_, probs = next_nodes(i,j-width_max, return_probs=True)\n",
    "        prev_payoff = sum([V[i+1,width_max+next_[ii][1]]*probs[ii] for ii in range(3)])*np.exp(-newTree[i,j]*dt)\n",
    "        V[i,j] = np.maximum(payoff, prev_payoff)\n",
    "        \n",
    "print('Tree American price: ', V[0,width_max])"
   ]
  },
  {
   "cell_type": "markdown",
   "id": "28a59b28-9e06-46b6-a411-ca4d84ca70b5",
   "metadata": {
    "tags": []
   },
   "source": [
    "### Bermudan option on Swaption\n",
    "The bermudan option on a swaption is very similar to the Bermudan option on a coupon paying bond. The discounted payoff at each node is given by the reciever swap value:\n",
    "$$\n",
    "RS(T_0) = \\sum_{j=-n_m}^{n_m}  Pr(m,j)\\left(\\sum_{n=1}^m c_n \\hat{A}(T_0,T_n)\\exp{\\left((-\\hat{B}(T_0,T_n)R(m,j)\\right)} - N\\right)^+\n",
    "$$\n",
    "Then similarly we can calculate the payoff of exercising at each node and the backward calculated option price. This is done below for the same swaption as was done in the earlier part of the notebook for European swaptions."
   ]
  },
  {
   "cell_type": "code",
   "execution_count": 459,
   "id": "006d585f-09ba-4a29-ba6d-9809be25d12a",
   "metadata": {},
   "outputs": [],
   "source": [
    "terms = np.array([1,2,3,4,5])\n",
    "yields = np.array([6,5.5,6,6.5,7])/100\n",
    "\n",
    "a = 0.03\n",
    "vol = 0.01\n",
    "rs = interp1d(terms, yields, bounds_error=False,\n",
    "                      fill_value=(yields[0],yields[-1]), kind='cubic')\n",
    "def zcb(s): return np.exp(-s*rs(s))\n",
    "def fwd_rate(s):\n",
    "    value1 = zcb(s-0.001)\n",
    "    value2 = zcb(s+0.001)\n",
    "    return -(np.log(value2)-np.log(value1))/0.002\n",
    "\n",
    "#Set the parameters for the option \n",
    "Dt = 1/2 #semi annual compounding\n",
    "T0 = 1 # start date\n",
    "TM = 5 # End date\n",
    "R = 0.06 #per annnum \n",
    "L = 100 #nominal\n",
    "T_range = np.arange(T0+Dt,TM+Dt,Dt)\n",
    "c = np.tile(L*Dt*R,len(T_range)) \n",
    "c[-1] = L*(1+Dt*R)\n",
    "\n",
    "\n",
    "dt = 1/50\n",
    "dR = vol*np.sqrt(3*dt)\n",
    "R0 = 0\n",
    "N = round(T0/dt)\n",
    "j_max = round(np.ceil(0.184/(a*dt))) \n",
    "\n",
    "# Construct the tree\n",
    "Tree = construct_tree(N,R0, j_max)\n",
    "alpha, Q = Calibrate_tree(Tree)\n",
    "mask = (Q != 0) #Use Q to remove zeros on the edges\n",
    "width = Tree.shape[1]\n",
    "newTree = Tree + np.tile(alpha,width).reshape(width,len(alpha)).T*mask\n",
    "Prob = Calculate_prob(newTree)"
   ]
  },
  {
   "cell_type": "code",
   "execution_count": 460,
   "id": "9ecb10cf-7519-41c8-b47d-0d72fa3a95e0",
   "metadata": {},
   "outputs": [],
   "source": [
    "def payoff_swaption(rate, T0, L, return_p = False):\n",
    "    '''\n",
    "    Calculate the payoff on an call option on coupon bonds\n",
    "    This can be easily extended to puts or other payoffs\n",
    "    return_p is True only returns the price of the coupon\n",
    "    '''\n",
    "    T_range = np.arange(T0+Dt,TM+0.0001,Dt)\n",
    "    c = np.tile(L*Dt*R,len(T_range)) \n",
    "    c[-1] = L*(1+Dt*R)\n",
    "    p=0\n",
    "    for j, Tj in enumerate(T_range):\n",
    "        p +=c[j]*P_tree(T0,Tj,dt, rate)\n",
    "    p -= L\n",
    "    if return_p:\n",
    "        return p\n",
    "    else:\n",
    "        return np.maximum(p,0)"
   ]
  },
  {
   "cell_type": "code",
   "execution_count": 461,
   "id": "16347779-d869-43c3-a9e5-ca474e4d0bcf",
   "metadata": {},
   "outputs": [
    {
     "name": "stdout",
     "output_type": "stream",
     "text": [
      "0.13317743232892773\n",
      "0.20008711481671934\n"
     ]
    }
   ],
   "source": [
    "V = np.zeros_like(Tree)\n",
    "V[-1] = payoff_swaption(newTree[-1], T0, L)\n",
    "print(np.sum(V[-1]*Prob[-1])*zcb(T0))\n",
    "\n",
    "width_max = int((newTree.shape[1]-1)/2)\n",
    "for i in range(N-1,-1,-1):\n",
    "    nm = np.minimum(width_max,i)\n",
    "    #print(nm)\n",
    "    for j in range(width_max-nm, width_max+nm+1):\n",
    "        #if i%L == 0:\n",
    "        payoff = payoff_swaption(newTree[i,j], i*dt, L)\n",
    "        \n",
    "        next_, probs = next_nodes(i,j-width_max, return_probs=True)\n",
    "        prev_payoff = sum([V[i+1,width_max+next_[ii][1]]*probs[ii] for ii in range(3)])*np.exp(-newTree[i,j]*dt)\n",
    "        V[i,j] = np.maximum(payoff, prev_payoff)\n",
    "print(V[0,width_max])"
   ]
  },
  {
   "cell_type": "markdown",
   "id": "a705fe64-2cde-4129-9396-56c7fbecd09b",
   "metadata": {},
   "source": [
    "### Convergence of Bermudan swaption\n",
    "Here we see how the trinomial tree converges as the number of steps increases. As $\\Delta t$ approaches zero the results should become increasingly accurate. This is also what is observed for this example of a bermudan reciever swaption."
   ]
  },
  {
   "cell_type": "code",
   "execution_count": 462,
   "id": "b518cead-1255-42d1-8a49-a3903ad25ad0",
   "metadata": {},
   "outputs": [],
   "source": [
    "from tqdm import tqdm"
   ]
  },
  {
   "cell_type": "code",
   "execution_count": 463,
   "id": "27ecddab-5d4e-4ab3-8a22-c4eff4ecd668",
   "metadata": {},
   "outputs": [
    {
     "name": "stderr",
     "output_type": "stream",
     "text": [
      "100%|██████████| 95/95 [05:03<00:00,  3.20s/it]\n"
     ]
    }
   ],
   "source": [
    "European_lst = []\n",
    "Bermudan_lst = []\n",
    "for size in tqdm(np.arange(5,100,1)):\n",
    "    dt = 1/size\n",
    "    dR = vol*np.sqrt(3*dt)\n",
    "    R0 = 0\n",
    "    N = round(T0/dt)\n",
    "    j_max = int(np.ceil(0.184/(a*dt))) \n",
    "    \n",
    "    # Construct the tree\n",
    "    Tree = construct_tree(N,R0, j_max)\n",
    "    alpha, Q = Calibrate_tree(Tree)\n",
    "    mask = (Q != 0) #Use Q to remove zeros on the edges\n",
    "    width = Tree.shape[1]\n",
    "    newTree = Tree + np.tile(alpha,width).reshape(width,len(alpha)).T*mask\n",
    "    Prob = Calculate_prob(newTree)\n",
    "    \n",
    "    #Calculate option prices\n",
    "    V = np.zeros_like(Tree)\n",
    "    V[-1] = payoff_swaption(newTree[-1], T0, L)\n",
    "    European_lst.append(np.sum(V[-1]*Prob[-1])*zcb(T0))\n",
    "\n",
    "    width_max = int((newTree.shape[1]-1)/2)\n",
    "    for i in range(N-1,-1,-1):\n",
    "        nm = np.minimum(width_max,i)\n",
    "\n",
    "        for j in range(width_max-nm, width_max+nm+1):\n",
    "            #if i%L == 0:\n",
    "            payoff = payoff_swaption(newTree[i,j], i*dt, L)\n",
    "\n",
    "            next_, probs = next_nodes(i,j-width_max, return_probs=True)\n",
    "            prev_payoff = sum([V[i+1,width_max+next_[ii][1]]*probs[ii] for ii in range(3)])*np.exp(-newTree[i,j]*dt)\n",
    "            V[i,j] = np.maximum(payoff, prev_payoff)\n",
    "    Bermudan_lst.append(V[0,width_max])\n"
   ]
  },
  {
   "cell_type": "code",
   "execution_count": 473,
   "id": "d7715af5-85ef-4e6b-ae7c-1d0c22519e00",
   "metadata": {},
   "outputs": [
    {
     "data": {
      "text/plain": [
       "Text(0.5, 0, 'Steps per year')"
      ]
     },
     "execution_count": 473,
     "metadata": {},
     "output_type": "execute_result"
    },
    {
     "data": {
      "image/png": "[encoded data removed]",
      "text/plain": [
       "<Figure size 864x288 with 2 Axes>"
      ]
     },
     "metadata": {
      "needs_background": "light"
     },
     "output_type": "display_data"
    }
   ],
   "source": [
    "fig, (ax1,ax2) = plt.subplots(1,2, figsize = (12,4))\n",
    "ax1.plot(np.arange(5,100,1), European_lst, label ='Tree')\n",
    "ax1.hlines(swaption_exact,5,100, linestyle = '--', color='black',label='Exact')\n",
    "ax1.set_title('European Swaption price with Trinomial tree')\n",
    "ax1.set_xlabel('Steps per year')\n",
    "ax1.legend()\n",
    "ax2.plot(np.arange(5,100,1), Bermudan_lst)\n",
    "ax2.set_title('Bermudan Swaption price with Trinomial tree')\n",
    "ax2.set_xlabel('Steps per year')"
   ]
  },
  {
   "cell_type": "code",
   "execution_count": null,
   "id": "cc7f8e99-d1e7-482b-b48f-dba3d6244332",
   "metadata": {},
   "outputs": [],
   "source": []
  }
 ],
 "metadata": {
  "kernelspec": {
   "display_name": "Python 3 (ipykernel)",
   "language": "python",
   "name": "python3"
  },
  "language_info": {
   "codemirror_mode": {
    "name": "ipython",
    "version": 3
   },
   "file_extension": ".py",
   "mimetype": "text/x-python",
   "name": "python",
   "nbconvert_exporter": "python",
   "pygments_lexer": "ipython3",
   "version": "3.9.12"
  }
 },
 "nbformat": 4,
 "nbformat_minor": 5
}
